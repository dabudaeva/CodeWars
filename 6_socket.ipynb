{
 "cells": [
  {
   "cell_type": "markdown",
   "id": "b3865d6d-400d-46af-b663-f1039e87dedd",
   "metadata": {},
   "source": [
    "# [Basic socket server](https://www.codewars.com/kata/6390ea74913c7f000d2e95cd/train/python)\n",
    "\n",
    "Create a tcp socket that listens on port 80 on local host,\n",
    "\n",
    "When a user connects to the socket, the following should happen:\n",
    "\n",
    "- If the user sends a string containing only the word \"exit\", the socket and connection should close and the function should end.\n",
    "- For any other string the user sends, the server should send a copy of the string back to the user.\n",
    "\n",
    "you can assume short strings all ending in \"\\n\" other then \"exit\" Make use of the ```SO_REUSEADDR``` option to ensure that testing is consistent."
   ]
  },
  {
   "cell_type": "code",
   "execution_count": 1,
   "id": "b4cb0002-0182-42aa-a15a-3cfeaceeb663",
   "metadata": {},
   "outputs": [],
   "source": [
    "def socket_server():\n",
    "    pass"
   ]
  },
  {
   "cell_type": "code",
   "execution_count": null,
   "id": "c1189da7-fb0b-4210-874c-5b729359af74",
   "metadata": {},
   "outputs": [],
   "source": []
  }
 ],
 "metadata": {
  "kernelspec": {
   "display_name": "Python 3 (ipykernel)",
   "language": "python",
   "name": "python3"
  },
  "language_info": {
   "codemirror_mode": {
    "name": "ipython",
    "version": 3
   },
   "file_extension": ".py",
   "mimetype": "text/x-python",
   "name": "python",
   "nbconvert_exporter": "python",
   "pygments_lexer": "ipython3",
   "version": "3.10.6"
  }
 },
 "nbformat": 4,
 "nbformat_minor": 5
}
