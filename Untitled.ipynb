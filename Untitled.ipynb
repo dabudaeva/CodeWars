{
 "cells": [
  {
   "cell_type": "markdown",
   "id": "0dd38ad0-de21-4f56-a9a6-378efcb1c772",
   "metadata": {
    "tags": []
   },
   "source": [
    "# [IP Validation](https://www.codewars.com/kata/515decfd9dcfc23bb6000006)\n",
    "\n",
    "Write an algorithm that will identify valid IPv4 addresses in dot-decimal format. IPs should be considered valid if they consist of four octets, with values between 0 and 255, inclusive.\n",
    "\n",
    "**Valid inputs examples**:\n",
    "```python\n",
    "Examples of valid inputs:\n",
    "1.2.3.4\n",
    "123.45.67.89\n",
    "```\n",
    "\n",
    "**Invalid input examples**:\n",
    "```python\n",
    "1.2.3\n",
    "1.2.3.4.5\n",
    "123.456.78.90\n",
    "123.045.067.089\n",
    "```\n",
    "**Notes**:\n",
    "\n",
    "- Leading zeros (e.g. 01.02.03.04) are considered invalid\n",
    "- Inputs are guaranteed to be a single string"
   ]
  },
  {
   "cell_type": "code",
   "execution_count": 1,
   "id": "e5c21d85-6b41-437d-9b7f-596df2c2eb7f",
   "metadata": {},
   "outputs": [],
   "source": [
    "def is_valid_IP(string):\n",
    "    strng = strng.split('.')\n",
    "    if len(strng) == 4:\n",
    "        try: [int(i) for i in strng]\n",
    "        except ValueError:\n",
    "            return False\n",
    "        else:\n",
    "            if any('0' in i and i[0] == '0' and len(i) > 1 or ' ' in i or int(i) not in range(256) for i in strng) == True:\n",
    "                return False\n",
    "            else: return True\n",
    "    else: return False"
   ]
  },
  {
   "cell_type": "code",
   "execution_count": 13,
   "id": "6b581bd3-0d31-462b-be33-c7ad4203472e",
   "metadata": {},
   "outputs": [],
   "source": [
    "string = ''"
   ]
  },
  {
   "cell_type": "code",
   "execution_count": 14,
   "id": "5798c779-1098-4c3f-9723-f83f55096d9f",
   "metadata": {},
   "outputs": [
    {
     "data": {
      "text/plain": [
       "['']"
      ]
     },
     "execution_count": 14,
     "metadata": {},
     "output_type": "execute_result"
    }
   ],
   "source": [
    "string = string.split('.')\n",
    "string"
   ]
  },
  {
   "cell_type": "code",
   "execution_count": 9,
   "id": "277d013f-70fc-401b-9443-1bc45d39ba97",
   "metadata": {},
   "outputs": [
    {
     "data": {
      "text/plain": [
       "4"
      ]
     },
     "execution_count": 9,
     "metadata": {},
     "output_type": "execute_result"
    }
   ],
   "source": [
    "len(string)"
   ]
  },
  {
   "cell_type": "code",
   "execution_count": 10,
   "id": "b0b382ce-2109-4d9e-803a-333a0d408277",
   "metadata": {},
   "outputs": [
    {
     "data": {
      "text/plain": [
       "[12, 255, 56, 1]"
      ]
     },
     "execution_count": 10,
     "metadata": {},
     "output_type": "execute_result"
    }
   ],
   "source": [
    "[int(i) for i in string]"
   ]
  },
  {
   "cell_type": "code",
   "execution_count": 12,
   "id": "c0f3a629-f63a-426d-b4d9-71394a2b7f83",
   "metadata": {},
   "outputs": [
    {
     "data": {
      "text/plain": [
       "[12, 255, 56, 1]"
      ]
     },
     "execution_count": 12,
     "metadata": {},
     "output_type": "execute_result"
    }
   ],
   "source": [
    "[int(i) for i in string if int(i) in range(256)]"
   ]
  },
  {
   "cell_type": "code",
   "execution_count": null,
   "id": "4da0f9c4-28b1-4c48-99ef-10bac9edf681",
   "metadata": {},
   "outputs": [],
   "source": []
  },
  {
   "cell_type": "code",
   "execution_count": null,
   "id": "ab928ad4-cfe9-460e-bf8d-a55d8f44033b",
   "metadata": {},
   "outputs": [],
   "source": []
  },
  {
   "cell_type": "code",
   "execution_count": null,
   "id": "0dbc2889-dffe-4879-8246-2035e545516a",
   "metadata": {},
   "outputs": [],
   "source": []
  },
  {
   "cell_type": "code",
   "execution_count": 3,
   "id": "b4b5dd70-69b0-496d-93de-fb2c58c34808",
   "metadata": {},
   "outputs": [
    {
     "name": "stdout",
     "output_type": "stream",
     "text": [
      "True\n",
      "True\n",
      "True\n",
      "True\n",
      "True\n",
      "True\n",
      "True\n",
      "True\n",
      "True\n",
      "True\n",
      "True\n",
      "True\n"
     ]
    }
   ],
   "source": [
    "print(is_valid_IP('12.255.56.1') == True)\n",
    "print(is_valid_IP('') == False)\n",
    "print(is_valid_IP('abc.def.ghi.jkl') == False)\n",
    "print(is_valid_IP('123.456.789.0') == False)\n",
    "print(is_valid_IP('12.34.56') == False)\n",
    "print(is_valid_IP('12.34.56 .1') == False)\n",
    "print(is_valid_IP('12.34.56.-1') == False)\n",
    "print(is_valid_IP('123.045.067.089') == False)\n",
    "print(is_valid_IP('127.1.1.0') == True)\n",
    "print(is_valid_IP('0.0.0.0') == True)\n",
    "print(is_valid_IP('0.34.82.53') == True)\n",
    "print(is_valid_IP('192.168.1.300') == False)"
   ]
  },
  {
   "cell_type": "code",
   "execution_count": null,
   "id": "7e56c95f-6d08-40a5-8f63-4b5c79fd89a3",
   "metadata": {},
   "outputs": [],
   "source": []
  },
  {
   "cell_type": "code",
   "execution_count": null,
   "id": "de07b6b6-8ba7-43be-bb81-fc11a03263da",
   "metadata": {},
   "outputs": [],
   "source": []
  },
  {
   "cell_type": "code",
   "execution_count": null,
   "id": "e78b7597-54e9-4af0-a7d3-4a7ae6b8fbda",
   "metadata": {},
   "outputs": [],
   "source": []
  },
  {
   "cell_type": "code",
   "execution_count": null,
   "id": "bbb8fffa-c979-476c-8dc2-35a70abadbbe",
   "metadata": {},
   "outputs": [],
   "source": []
  },
  {
   "cell_type": "code",
   "execution_count": null,
   "id": "2cd5cabf-1f97-48e8-964b-1187ae94e794",
   "metadata": {},
   "outputs": [],
   "source": []
  },
  {
   "cell_type": "code",
   "execution_count": null,
   "id": "0aa618ff-ef63-457a-b31a-678c07037be6",
   "metadata": {},
   "outputs": [],
   "source": []
  }
 ],
 "metadata": {
  "kernelspec": {
   "display_name": "Python 3 (ipykernel)",
   "language": "python",
   "name": "python3"
  },
  "language_info": {
   "codemirror_mode": {
    "name": "ipython",
    "version": 3
   },
   "file_extension": ".py",
   "mimetype": "text/x-python",
   "name": "python",
   "nbconvert_exporter": "python",
   "pygments_lexer": "ipython3",
   "version": "3.10.6"
  }
 },
 "nbformat": 4,
 "nbformat_minor": 5
}
