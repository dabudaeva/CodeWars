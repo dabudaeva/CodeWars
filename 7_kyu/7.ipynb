{
 "cells": [
  {
   "cell_type": "markdown",
   "id": "11bb099e-13c7-46e6-a587-cbef94a00db8",
   "metadata": {},
   "source": [
    "# [Fibonacci](https://www.codewars.com/kata/57a1d5ef7cb1f3db590002af)\n",
    "\n",
    "Create function fib that returns n'th element of Fibonacci sequence (classic programming task)."
   ]
  },
  {
   "cell_type": "code",
   "execution_count": 1,
   "id": "836d7015-870b-486d-a94f-bf9313c84912",
   "metadata": {},
   "outputs": [],
   "source": [
    "def fibonacci(n: int) -> int:\n",
    "    result = [0, 1]\n",
    "    for i in range(2, n+1):\n",
    "        result.append(result[i-2]+result[i-1])\n",
    "    return result[n]"
   ]
  },
  {
   "cell_type": "code",
   "execution_count": 2,
   "id": "e2caa314-bc19-4555-9c32-1f58368dd903",
   "metadata": {},
   "outputs": [],
   "source": [
    "def fibonacci(n: int) -> int:\n",
    "    if n in [0, 1]:\n",
    "        return n\n",
    "    else:\n",
    "        a = 0\n",
    "        b = 1\n",
    "        for i in range(n-1):\n",
    "            c = a + b\n",
    "            a = b\n",
    "            b = c\n",
    "        return c"
   ]
  },
  {
   "cell_type": "markdown",
   "id": "28f936fa-0849-49c2-a8db-6b51eada468b",
   "metadata": {},
   "source": [
    "# [Reverse list](https://www.codewars.com/kata/57a04da9e298a7ee43000111)\n",
    "\n",
    "Write reverseList function that simply reverses lists."
   ]
  },
  {
   "cell_type": "code",
   "execution_count": 3,
   "id": "f07a6765-204e-4f8a-bf16-1bd325f90258",
   "metadata": {},
   "outputs": [],
   "source": [
    "def reverse_list(lst):\n",
    "    return lst[::-1]"
   ]
  },
  {
   "cell_type": "markdown",
   "id": "e32a1667-d8f5-4447-8a17-8a7307ce68c0",
   "metadata": {},
   "source": [
    "# [Disemvowel Trolls](https://www.codewars.com/kata/52fba66badcd10859f00097e)\n",
    "\n",
    "Trolls are attacking your comment section!\n",
    "\n",
    "A common way to deal with this situation is to remove all of the vowels from the trolls' comments, neutralizing the threat.\n",
    "\n",
    "Your task is to write a function that takes a string and return a new string with all vowels removed.\n",
    "\n",
    "For example, the string \"This website is for losers LOL!\" would become \"Ths wbst s fr lsrs LL!\".\n",
    "\n",
    "Note: for this kata y isn't considered a vowel."
   ]
  },
  {
   "cell_type": "code",
   "execution_count": 4,
   "id": "f94b0ca6-b1cd-4274-bf4a-91dc20d7194b",
   "metadata": {},
   "outputs": [],
   "source": [
    "def disemvowel(string_):\n",
    "    vowels = ['a', 'e', 'o', 'i', 'u']\n",
    "    for i in vowels:\n",
    "        string_ = string_.replace(i,'')\n",
    "        string_ = string_.replace(i.upper(), '')\n",
    "    return(string_)"
   ]
  },
  {
   "cell_type": "code",
   "execution_count": 5,
   "id": "29ddf9bc-f575-479d-ae0e-c273aa9ffa4c",
   "metadata": {},
   "outputs": [
    {
     "name": "stdout",
     "output_type": "stream",
     "text": [
      "True\n"
     ]
    }
   ],
   "source": [
    "print(disemvowel(\"This website is for losers LOL!\") == \"Ths wbst s fr lsrs LL!\")"
   ]
  },
  {
   "cell_type": "markdown",
   "id": "eca3a1fc-5b7c-4acd-9f63-25ae42329877",
   "metadata": {},
   "source": [
    "# [Isograms](https://www.codewars.com/kata/54ba84be607a92aa900000f1)\n",
    "\n",
    "An isogram is a word that has no repeating letters, consecutive or non-consecutive. Implement a function that determines whether a string that contains only letters is an isogram. Assume the empty string is an isogram. Ignore letter case.\n",
    "\n",
    "Example: (Input --> Output)\n",
    "\n",
    "\"Dermatoglyphics\" --> true \"aba\" --> false \"moOse\" --> false (ignore letter case)\n",
    "\n",
    "```python\n",
    "isIsogram \"Dermatoglyphics\" = true\n",
    "isIsogram \"moose\" = false\n",
    "isIsogram \"aba\" = false\n",
    "```"
   ]
  },
  {
   "cell_type": "code",
   "execution_count": 6,
   "id": "c6b7dad5-868e-4075-aee7-03fe7ac33bb8",
   "metadata": {},
   "outputs": [],
   "source": [
    "def is_isogram(string):\n",
    "    string = string.lower().strip()\n",
    "    if string == \"\":\n",
    "        result = True\n",
    "    else:\n",
    "        for i in string:\n",
    "            if string.count(i) == 1:\n",
    "                result = True\n",
    "            else:\n",
    "                result = False\n",
    "                break\n",
    "    return result"
   ]
  },
  {
   "cell_type": "code",
   "execution_count": 7,
   "id": "99169f3e-b817-44a5-8015-3de33a7ca0a5",
   "metadata": {},
   "outputs": [
    {
     "name": "stdout",
     "output_type": "stream",
     "text": [
      "True\n",
      "True\n",
      "True same chars may not be adjacent\n",
      "True same chars may not be same case\n",
      "True\n",
      "True an empty string is a valid isogram\n"
     ]
    }
   ],
   "source": [
    "print(is_isogram(\"Dermatoglyphics\") == True )\n",
    "print(is_isogram(\"isogram\") == True )\n",
    "print(is_isogram(\"aba\") == False, \"same chars may not be adjacent\" )\n",
    "print(is_isogram(\"moOse\") == False, \"same chars may not be same case\" )\n",
    "print(is_isogram(\"isIsogram\") == False )\n",
    "print(is_isogram(\"\") == True, \"an empty string is a valid isogram\" )"
   ]
  },
  {
   "cell_type": "markdown",
   "id": "393d637e-da16-47d3-89cc-beaac72988ac",
   "metadata": {},
   "source": [
    "# [How many are smaller than me?](https://www.codewars.com/kata/56a1c074f87bc2201200002e)\n",
    "\n",
    "Write a function that given, an array arr, returns an array containing at each index i the amount of numbers that are smaller than arr[i] to the right.\n",
    "\n",
    "For example:\n",
    "```python\n",
    "* Input [5, 4, 3, 2, 1] => Output [4, 3, 2, 1, 0]\n",
    "* Input [1, 2, 0] => Output [1, 1, 0]\n",
    "```\n",
    "If you've completed this one and you feel like testing your performance tuning of this same kata, head over to the much tougher version How many are smaller than me II?\n",
    "\n"
   ]
  },
  {
   "cell_type": "code",
   "execution_count": 28,
   "id": "5c677e7b-1277-45d8-ac02-2b18e369d766",
   "metadata": {},
   "outputs": [],
   "source": [
    "def smaller1(arr):\n",
    "    return [sum([1 for s in arr[i+1:] if s<n]) for i, n in enumerate(arr)]"
   ]
  }
 ],
 "metadata": {
  "kernelspec": {
   "display_name": "Python 3 (ipykernel)",
   "language": "python",
   "name": "python3"
  },
  "language_info": {
   "codemirror_mode": {
    "name": "ipython",
    "version": 3
   },
   "file_extension": ".py",
   "mimetype": "text/x-python",
   "name": "python",
   "nbconvert_exporter": "python",
   "pygments_lexer": "ipython3",
   "version": "3.10.6"
  }
 },
 "nbformat": 4,
 "nbformat_minor": 5
}
