{
 "cells": [
  {
   "cell_type": "markdown",
   "id": "113c4250-23f6-48bb-9668-c525beaf4c29",
   "metadata": {},
   "source": [
    "# [Find the missed number](https://www.codewars.com/kata/5a1d86dbba2a142e040000ee)\n",
    "\n",
    "In this kata, you will be given a string containing numbers from a to b, one number can be missing from these numbers, then the string will be shuffled, you're expected to return an array of all possible missing numbers.\n",
    "\n",
    "### Examples (input => output)\n",
    "\n",
    "Here's a string with numbers from 1 - 21, its missing one number and the string is then shuffled, your'e expected to return a list of possible missing numbers.\n",
    "\n",
    "```python\n",
    "1, 21, \"2198765123416171890101112131415\"  => [ 12, 21 ]\n",
    "```\n",
    "\n",
    "You won't be able to tell if its 21 or 12, you must return all possible values in an array.\n",
    "\n",
    "### Another Example\n",
    "\n",
    "```python\n",
    "5, 10, \"578910\" => [ 6 ]\n",
    "```\n",
    "\n",
    "**Documentation**:\n",
    "\n",
    "The parameters will be in order two numbers and a string:\n",
    "\n",
    "- start => from\n",
    "- stop => to\n",
    "- string => numbers from start to stop in string form (shuffled), but missing one number\n",
    "\n",
    "Note:\n",
    "- if there're no missing numbers return an empty list\n",
    "\n",
    "Too easy ? Try Range of Integers in an Unsorted String\n",
    "\n"
   ]
  },
  {
   "cell_type": "code",
   "execution_count": 302,
   "id": "e32fa992-98f6-4f65-8437-22a478d49f70",
   "metadata": {},
   "outputs": [],
   "source": [
    "from itertools import *\n",
    "def find_number(start, stop, string):\n",
    "    result = sorted(''.join([str(i) for i in range(start, stop + 1)]))\n",
    "    [result.remove(i) for i in sorted(string) if i in result]\n",
    "    result = [''.join(i) for i in permutations(result)]\n",
    "    result = [i for i in result if not i.startswith('0')]\n",
    "    try:\n",
    "        result = list(set(map(int, result)))\n",
    "        result = [i for i in result if i in range(start, stop + 1)]\n",
    "    except:\n",
    "        result = []\n",
    "    return result"
   ]
  },
  {
   "cell_type": "code",
   "execution_count": 303,
   "id": "fae036f5-304c-4367-a5ae-9b15e4400634",
   "metadata": {
    "tags": []
   },
   "outputs": [
    {
     "data": {
      "text/plain": [
       "True"
      ]
     },
     "execution_count": 303,
     "metadata": {},
     "output_type": "execute_result"
    }
   ],
   "source": [
    "string = '6667686970717273747576777879808182838485868788899919293949596979899100101102103104105106107108109110111112113114115116117118119120121122123124125126127128129130131132133134135136137138139140141142143144145146147148149150151152153154155156157158159160161162163164165166167168169170171172173174175176177178179180181182183184185186187188189190191192193194195196197198199200201202203204205206207208209210211212213214215216217218219220221222223224225226227228229230231232233234235236237238239240241242243244245246247248249250251252253254255256257258259260261262263264265266267268269270271272273274275276277278279280281282283284285286287288289290291292293294295296297298299300301302303304305306307308309310311312313314315316317318319320321322323324325326327328329330331332333334335336337338339340341342343344345346347348349350351352353354355356357358359360361362363364365366367368369370371372373374375376377378379380381382383384385386387388389390391392393394395396397398399400401402403404405406407408409410411412413414415416417418419420421422423424425426427428429430431432433434435436437438439440441442443444445446447448449450451452453454455456457458459460461462463464465466467468469470471472473474475476477478479480481482483484485486487488489490491492493494495496497498499500501502503504505506507508509510511512513514515516517518519520521522523524525526527528529530531532533534535536537538539540541542543544545546547548549550551552553554555556557558559560561562563564565566567568569570571572573574575576577578579580581582583584585586587588589590591592593594595596597598599600601602603604605606607608609610611612613614615616617618619620621622623624625626627628629630631632633634635636637638639640641642643644645646647648649650'\n",
    "\n",
    "start, stop = 65, 650\n",
    "''.join([str(i) for i in range(start, stop + 1)])\n",
    "\n",
    "find_number(start, stop, string) == [560, 506, 605, 650]"
   ]
  }
 ],
 "metadata": {
  "kernelspec": {
   "display_name": "Python 3 (ipykernel)",
   "language": "python",
   "name": "python3"
  },
  "language_info": {
   "codemirror_mode": {
    "name": "ipython",
    "version": 3
   },
   "file_extension": ".py",
   "mimetype": "text/x-python",
   "name": "python",
   "nbconvert_exporter": "python",
   "pygments_lexer": "ipython3",
   "version": "3.10.6"
  }
 },
 "nbformat": 4,
 "nbformat_minor": 5
}
