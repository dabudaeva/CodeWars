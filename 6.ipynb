{
 "cells": [
  {
   "cell_type": "markdown",
   "id": "25a631d9-e531-4828-96bf-f8e8a23dc2f4",
   "metadata": {},
   "source": [
    "# [Backspaces in string](https://www.codewars.com/kata/5727bb0fe81185ae62000ae3)\n",
    "\n",
    "Assume \"#\" is like a backspace in string. This means that string \"a#bc#d\" actually is \"bd\"\n",
    "\n",
    "Your task is to process a string with \"#\" symbols.\n",
    "\n",
    "### Examples\n",
    "\n",
    "```python\n",
    "\"abc#d##c\"      ==>  \"ac\"\n",
    "\"abc##d######\"  ==>  \"\"\n",
    "\"#######\"       ==>  \"\"\n",
    "\"\"              ==>  \"\"\n",
    "```"
   ]
  },
  {
   "cell_type": "code",
   "execution_count": 48,
   "id": "940aff77-0f15-43c4-81ee-875a452a6ae7",
   "metadata": {},
   "outputs": [],
   "source": [
    "import numpy as np\n",
    "from itertools import groupby\n",
    "\n",
    "def clean_string(s):\n",
    "    if s.count('#') >= len(s)/2:\n",
    "        return \"\"\n",
    "    else:\n",
    "        while \"#\" in s:\n",
    "            if s[s.find('#')-1] != \"#\":\n",
    "                i = [len(list(g)) for i,g in groupby(s)][s.find('#')]\n",
    "                s = s[:s.find('#')-i]+s[s.find('#')+i:]\n",
    "            else:\n",
    "                i = [len(list(g)) for i,g in groupby(s)][s.find('#')]\n",
    "                s = s[:s.find('#')]+s[s.find('#')+i:]\n",
    "        return s"
   ]
  },
  {
   "cell_type": "code",
   "execution_count": 39,
   "id": "fcea161d-c82a-47f1-9b3b-a503b0cbef97",
   "metadata": {},
   "outputs": [],
   "source": [
    "def clean_string(s):\n",
    "    s = list(s)\n",
    "    while \"#\" in s:\n",
    "        i = s.index('#')\n",
    "        if s[i-1] != \"#\" and i !=0 :\n",
    "            del s[i]\n",
    "            del s[i-1]\n",
    "        else:\n",
    "            del s[i]\n",
    "    return ''.join(s)"
   ]
  },
  {
   "cell_type": "code",
   "execution_count": 49,
   "id": "c524ef40-eea1-499e-b3b2-0a00cb8a4ae1",
   "metadata": {},
   "outputs": [
    {
     "name": "stdout",
     "output_type": "stream",
     "text": [
      "True\n",
      "True\n",
      "True\n",
      "True\n"
     ]
    }
   ],
   "source": [
    "print(clean_string('abc#d##c') == \"ac\")\n",
    "print(clean_string('abcde####d##c#') == \"\" )\n",
    "print(clean_string(\"#######\") == \"\" )\n",
    "print(clean_string(\"\") == \"\" )"
   ]
  },
  {
   "cell_type": "markdown",
   "id": "5e0d1262-43df-487b-bebe-a18eaecc2c1e",
   "metadata": {},
   "source": [
    "# [Multiplication table](https://www.codewars.com/kata/534d2f5b5371ecf8d2000a08)\n",
    "\n",
    "Your task, is to create N×N multiplication table, of size provided in parameter.\n",
    "\n",
    "For example, when given size is 3:\n",
    "\n",
    "```\n",
    "1 2 3\n",
    "2 4 6\n",
    "3 6 9\n",
    "```\n",
    "\n",
    "For the given example, the return value should be:\n",
    "```python\n",
    "[[1,2,3],[2,4,6],[3,6,9]]\n",
    "```"
   ]
  },
  {
   "cell_type": "code",
   "execution_count": 50,
   "id": "475eed44-08cd-431e-9982-721dfaa5de1a",
   "metadata": {},
   "outputs": [],
   "source": [
    "import numpy as np\n",
    "def multiplication_table(size):\n",
    "    return [list(i*np.arange(1, size+1)) for i in range(1, size+1)]"
   ]
  },
  {
   "cell_type": "code",
   "execution_count": 72,
   "id": "2c87cb4c-974b-413a-9ebd-3a66da180790",
   "metadata": {},
   "outputs": [],
   "source": [
    "def multiplication_table(size):\n",
    "    return [[i*j for i in range(1, size+1)] for j in range(1, size+1)]"
   ]
  },
  {
   "cell_type": "code",
   "execution_count": 73,
   "id": "469abc0a-8804-4b5e-a3b9-c22575ee4412",
   "metadata": {},
   "outputs": [
    {
     "name": "stdout",
     "output_type": "stream",
     "text": [
      "True\n"
     ]
    }
   ],
   "source": [
    "print(multiplication_table(3) == [[1,2,3],[2,4,6],[3,6,9]])"
   ]
  },
  {
   "cell_type": "markdown",
   "id": "3d06b84d-e8fd-4ee5-93cb-c29b1701d229",
   "metadata": {},
   "source": [
    "# [Count characters in your string](https://www.codewars.com/kata/52efefcbcdf57161d4000091)\n",
    "\n",
    "The main idea is to count all the occurring characters in a string. If you have a string like aba, then the result should be {'a': 2, 'b': 1}.\n",
    "\n",
    "What if the string is empty? Then the result should be empty object literal, {}."
   ]
  },
  {
   "cell_type": "code",
   "execution_count": 75,
   "id": "49de01b1-bfd6-45fd-bdc7-a7d11854a34b",
   "metadata": {},
   "outputs": [],
   "source": [
    "def count(string):\n",
    "    string = string.strip()\n",
    "    if string == '':\n",
    "        return {}\n",
    "    else:\n",
    "        return {i: string.count(i) for i in string}"
   ]
  },
  {
   "cell_type": "code",
   "execution_count": 76,
   "id": "d92e5593-8685-4568-a1a2-d28dbe66e58b",
   "metadata": {},
   "outputs": [
    {
     "name": "stdout",
     "output_type": "stream",
     "text": [
      "{'a': 2, 'b': 1} {'a': 2, 'b': 1}\n",
      "{} {}\n"
     ]
    }
   ],
   "source": [
    "print(count('aba'), {'a': 2, 'b': 1})\n",
    "print(count(''), {})"
   ]
  },
  {
   "cell_type": "markdown",
   "id": "0ccaffff-8d2a-49f5-9799-35b471561afc",
   "metadata": {},
   "source": [
    "# [Is a number prime?](https://www.codewars.com/kata/5262119038c0985a5b00029f/train/python)\n",
    "\n",
    "Define a function that takes an integer argument and returns a logical value true or false depending on if the integer is a prime.\n",
    "\n",
    "Per Wikipedia, a prime number ( or a prime ) is a natural number greater than 1 that has no positive divisors other than 1 and itself.\n",
    "\n",
    "### Requirements\n",
    "\n",
    "- You can assume you will be given an integer input.\n",
    "- You can not assume that the integer will be only positive. You may be given negative numbers as well ( or 0 ).\n",
    "- **NOTE on performance**: There are no fancy optimizations required, but still the most trivial solutions might time out. Numbers go up to 2^31 ( or similar, depending on language ). Looping all the way up to n, or n/2, will be too slow.\n",
    "\n",
    "### Example\n",
    "\n",
    "```python\n",
    "is_prime(1)  /* false */\n",
    "is_prime(2)  /* true  */\n",
    "is_prime(-1) /* false */\n",
    "```"
   ]
  },
  {
   "cell_type": "code",
   "execution_count": 330,
   "id": "11a74eb5-5e93-4093-b9b7-95e53c4725fe",
   "metadata": {},
   "outputs": [],
   "source": [
    "def is_prime(num):\n",
    "    if num <= 1:\n",
    "        return False\n",
    "    else:\n",
    "        d = None\n",
    "        m = int(num**0.5)+1 if int(num**0.5) != num**0.5 else int(num**0.5)\n",
    "        for i in range(2, m+1):\n",
    "            if num % i == 0 and num != 2:\n",
    "                d = num / i\n",
    "                break\n",
    "        return d is None"
   ]
  },
  {
   "cell_type": "code",
   "execution_count": 331,
   "id": "2beb1e6f-eb5d-42e0-b3e2-3fd616ab534b",
   "metadata": {},
   "outputs": [
    {
     "name": "stdout",
     "output_type": "stream",
     "text": [
      "True 0  is not prime Time: 0.00011087488383054733\n",
      "True 1  is not prime\n",
      "True 2  is prime\n",
      "True 73 is prime\n",
      "True 75 is not prime\n",
      "True -1 is not prime\n",
      "True 3  is prime\n",
      "True 5  is prime\n",
      "True 7  is prime\n",
      "True 41 is prime\n",
      "True 5099 is prime\n",
      "True 4  is not prime\n",
      "True 6  is not prime\n",
      "True 8  is not prime\n",
      "True 9 is not prime\n",
      "True 45 is not prime\n",
      "True -5 is not prime\n",
      "True -8 is not prime\n",
      "True -41 is not prime\n",
      "True 123456787 is not prime Time: 6.320886313915253e-05\n"
     ]
    }
   ],
   "source": [
    "start = timeit.default_timer()\n",
    "print(is_prime(0) == False, \"0  is not prime\", f\"Time: {timeit.default_timer() - start}\")\n",
    "start = timeit.default_timer()\n",
    "print(is_prime(1) == False, \"1  is not prime\")\n",
    "start = timeit.default_timer()\n",
    "print(is_prime(2) == True, \"2  is prime\")\n",
    "start = timeit.default_timer()\n",
    "print(is_prime(73) == True, \"73 is prime\")\n",
    "start = timeit.default_timer()\n",
    "print(is_prime(75) == False, \"75 is not prime\")\n",
    "start = timeit.default_timer()\n",
    "print(is_prime(-1) == False, \"-1 is not prime\")\n",
    "start = timeit.default_timer()\n",
    "print(is_prime(3) == True, \"3  is prime\");\n",
    "start = timeit.default_timer()\n",
    "print(is_prime(5) == True, \"5  is prime\");\n",
    "start = timeit.default_timer()\n",
    "print(is_prime(7) == True, \"7  is prime\");\n",
    "start = timeit.default_timer()\n",
    "print(is_prime(41) == True, \"41 is prime\");\n",
    "start = timeit.default_timer()\n",
    "print(is_prime(5099) == True, \"5099 is prime\");\n",
    "start = timeit.default_timer()\n",
    "print(is_prime(4) == False, \"4  is not prime\");\n",
    "print(is_prime(6) == False, \"6  is not prime\");\n",
    "print(is_prime(8) == False, \"8  is not prime\");\n",
    "print(is_prime(9) == False, \"9 is not prime\");\n",
    "print(is_prime(45) == False, \"45 is not prime\");\n",
    "print(is_prime(-5) == False, \"-5 is not prime\");\n",
    "print(is_prime(-8) == False, \"-8 is not prime\");\n",
    "print(is_prime(-41) == False, \"-41 is not prime\");\n",
    "start = timeit.default_timer()\n",
    "print(is_prime(123456787) == False, \"123456787 is not prime\", f\"Time: {timeit.default_timer() - start}\");"
   ]
  }
 ],
 "metadata": {
  "kernelspec": {
   "display_name": "Python 3 (ipykernel)",
   "language": "python",
   "name": "python3"
  },
  "language_info": {
   "codemirror_mode": {
    "name": "ipython",
    "version": 3
   },
   "file_extension": ".py",
   "mimetype": "text/x-python",
   "name": "python",
   "nbconvert_exporter": "python",
   "pygments_lexer": "ipython3",
   "version": "3.10.6"
  }
 },
 "nbformat": 4,
 "nbformat_minor": 5
}
