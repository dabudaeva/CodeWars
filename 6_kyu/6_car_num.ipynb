{
 "cells": [
  {
   "cell_type": "markdown",
   "id": "f88bb557-2bb2-47ac-bf7f-4d5fc9a4eedf",
   "metadata": {
    "tags": []
   },
   "source": [
    "# [Car Number Plate Calculator](https://www.codewars.com/kata/5f25f475420f1b002412bb1f)\n",
    "\n",
    "### Introduction\n",
    "\n",
    "Let’s assume that when you register a car you are assigned two numbers:\n",
    "\n",
    "1. Customer ID – number between 0 and 17558423 inclusively. It is assigned to car buyers in the following order: the first customer receives an ID of 0, the second customer receives an ID of 1, the third - 2, and so on;\n",
    "2. A Number Plate – 6-character combination composed of the series - three Latin lowercase letters from a to z; and the serial number - three digits from 0 to 9. Example: ```aaa001```, ```xyz123```, ```tok469```;\n",
    "\n",
    "Each Number Plate is related to the given Customer ID. For example:\n",
    "\n",
    "- Customer ID of 0: aaa001\n",
    "- Customer ID of 21: aaa022\n",
    "- Customer ID of 169: aaa170\n",
    "\n",
    "### Your Task\n",
    "\n",
    "Write a function ```find_the_number_plate``` which takes the Customer ID as an argument, calculates the Number Plate corresponding to this ID and returns it as a string;\n",
    "\n",
    "### Rules\n",
    "\n",
    "1. The serial number changes first. For each 3-letter series it goes through 001 to 999, such as: \n",
    "\n",
    "`aaa001, aaa002, aaa003, ......, aaa998, aaa999`\n",
    "\n",
    "2. The leftmost letter in the series switches alphabetically each time after the serial number has moved through 001 to 999 inclusively;\n",
    "\n",
    "`aaa001...aaa999`\n",
    "\n",
    "at this point the leftmost letter will switch alphabetically, while the serial number repeats the same cycle again;\n",
    "\n",
    "`baa001...baa999, ...... , zaa001...zaa999`\n",
    "\n",
    "3. The middle letter switches alphabetically each time after the leftmost letter has moved through a to z and the z** series has moved through 001 to 999.\n",
    "\n",
    "`zaa001...zaa999`\n",
    "\n",
    "at this point the middle letter will switch alphabetically, while the leftmost letter and the serial number repeat the same cycle again;\n",
    "\n",
    "`aba001...aba999, bba001...bba999, ......, zza001...zza999`\n",
    "\n",
    "4. The rightmost letter switches alphabetically each time after the middle letter has moved through a to z and the zz* series has moved through 001 to 999.\n",
    "\n",
    "`zza001...zza999`\n",
    "\n",
    "at this point the rightmost letter will switch alphabetically, while the middle letter, the leftmost letter, and the serial number repeat the same cycle again;\n",
    "\n",
    "```\n",
    "aab001...aab999,\n",
    "bab001...bab999,\n",
    "......,\n",
    "zab001...zab999,\n",
    "abb001...abb999,\n",
    "bbb001...bbb999,\n",
    "......,\n",
    "zbb001...zbb999,\n",
    "acb001...acb999,\n",
    "......, \n",
    "zzz001...zzz999\n",
    "```\n",
    "\n",
    "### Note\n",
    "\n",
    "If the serial number has less than 3 digits, the missing places should be adjusted with zeroes.\n",
    "i.e: 12 should equal 012; 4 should equal 004.\n",
    "\n",
    "Once again, the customer ID starts with 0.\n",
    "\n",
    "### Good luck!"
   ]
  },
  {
   "cell_type": "code",
   "execution_count": 175,
   "id": "f8db9d4a-c910-472f-a6e3-764de534693e",
   "metadata": {},
   "outputs": [],
   "source": [
    "#letters: abcdefghijklmnopqrstuvwxyz\n",
    "def find_the_number_plate(customer_id):\n",
    "    a = 'abcdefghijklmnopqrstuvwxyz'\n",
    "\n",
    "    res = a[customer_id//999%26]+a[customer_id//999//26%26]+a[customer_id//999//26//26]+f'{customer_id%999+1:03d}'\n",
    "    return res"
   ]
  },
  {
   "cell_type": "code",
   "execution_count": 176,
   "id": "20ba9706-d104-4874-86d5-ae119aee14d7",
   "metadata": {},
   "outputs": [
    {
     "name": "stdout",
     "output_type": "stream",
     "text": [
      "True\n",
      "True\n",
      "True\n",
      "True\n",
      "True\n",
      "True\n"
     ]
    }
   ],
   "source": [
    "print(find_the_number_plate(3) == 'aaa004')\n",
    "print(find_the_number_plate(1487) == 'baa489')\n",
    "print(find_the_number_plate(40000) == 'oba041')\n",
    "print(find_the_number_plate(17558423) == 'zzz999')\n",
    "print(find_the_number_plate(234567) == 'aja802')\n",
    "print(find_the_number_plate(43056) == 'rba100')"
   ]
  }
 ],
 "metadata": {
  "kernelspec": {
   "display_name": "Python 3 (ipykernel)",
   "language": "python",
   "name": "python3"
  },
  "language_info": {
   "codemirror_mode": {
    "name": "ipython",
    "version": 3
   },
   "file_extension": ".py",
   "mimetype": "text/x-python",
   "name": "python",
   "nbconvert_exporter": "python",
   "pygments_lexer": "ipython3",
   "version": "3.10.6"
  }
 },
 "nbformat": 4,
 "nbformat_minor": 5
}
