{
 "cells": [
  {
   "cell_type": "markdown",
   "id": "0dd38ad0-de21-4f56-a9a6-378efcb1c772",
   "metadata": {
    "tags": []
   },
   "source": [
    "# [IP Validation](https://www.codewars.com/kata/515decfd9dcfc23bb6000006)\n",
    "\n",
    "Write an algorithm that will identify valid IPv4 addresses in dot-decimal format. IPs should be considered valid if they consist of four octets, with values between 0 and 255, inclusive.\n",
    "\n",
    "**Valid inputs examples**:\n",
    "```python\n",
    "Examples of valid inputs:\n",
    "1.2.3.4\n",
    "123.45.67.89\n",
    "```\n",
    "\n",
    "**Invalid input examples**:\n",
    "```python\n",
    "1.2.3\n",
    "1.2.3.4.5\n",
    "123.456.78.90\n",
    "123.045.067.089\n",
    "```\n",
    "**Notes**:\n",
    "\n",
    "- Leading zeros (e.g. 01.02.03.04) are considered invalid\n",
    "- Inputs are guaranteed to be a single string"
   ]
  },
  {
   "cell_type": "code",
   "execution_count": 172,
   "id": "ab928ad4-cfe9-460e-bf8d-a55d8f44033b",
   "metadata": {},
   "outputs": [],
   "source": [
    "def is_valid_IP(string):\n",
    "    string = string.split('.')\n",
    "    return all([\n",
    "        len(string) == 4,                                              # Length\n",
    "        all(i.isdigit() for i in string),                              # Digit\n",
    "        all(int(i) in range(256) for i in string if i.isdigit()),      # Range\n",
    "        not any([i.startswith('0') and len(i) != 1 for i in string]),  # Leading zeros\n",
    "    ])"
   ]
  },
  {
   "cell_type": "code",
   "execution_count": 173,
   "id": "b4b5dd70-69b0-496d-93de-fb2c58c34808",
   "metadata": {},
   "outputs": [
    {
     "name": "stdout",
     "output_type": "stream",
     "text": [
      "True\n",
      "True\n",
      "True\n",
      "True\n",
      "True\n",
      "True\n",
      "True\n",
      "True\n",
      "True\n",
      "True\n",
      "True\n",
      "True\n"
     ]
    }
   ],
   "source": [
    "print(is_valid_IP('12.255.56.1') == True)\n",
    "print(is_valid_IP('') == False)\n",
    "print(is_valid_IP('abc.def.ghi.jkl') == False)\n",
    "print(is_valid_IP('123.456.789.0') == False)\n",
    "print(is_valid_IP('12.34.56') == False)\n",
    "print(is_valid_IP('12.34.56 .1') == False)\n",
    "print(is_valid_IP('12.34.56.-1') == False)\n",
    "print(is_valid_IP('123.045.067.089') == False)\n",
    "print(is_valid_IP('127.1.1.0') == True)\n",
    "print(is_valid_IP('0.0.0.0') == True)\n",
    "print(is_valid_IP('0.34.82.53') == True)\n",
    "print(is_valid_IP('192.168.1.300') == False)"
   ]
  }
 ],
 "metadata": {
  "kernelspec": {
   "display_name": "Python 3 (ipykernel)",
   "language": "python",
   "name": "python3"
  },
  "language_info": {
   "codemirror_mode": {
    "name": "ipython",
    "version": 3
   },
   "file_extension": ".py",
   "mimetype": "text/x-python",
   "name": "python",
   "nbconvert_exporter": "python",
   "pygments_lexer": "ipython3",
   "version": "3.10.6"
  }
 },
 "nbformat": 4,
 "nbformat_minor": 5
}
