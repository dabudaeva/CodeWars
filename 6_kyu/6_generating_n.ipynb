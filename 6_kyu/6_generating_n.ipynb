{
 "cells": [
  {
   "cell_type": "markdown",
   "id": "9d9f556b-045a-4426-97f8-8543db0e0c46",
   "metadata": {},
   "source": [
    "# [Generating Numbers From Digits #1](https://www.codewars.com/kata/584d05422609c8890f0000be)\n",
    "\n",
    "We have an array with string digits that occurrs more than once, for example, `arr = ['1', '2', '2', '2', '3', '3']`. How many different string numbers can be generated taking the 6 elements at a time?\n",
    "\n",
    "We present the list of them below in an unsorted way:\n",
    "\n",
    "```python\n",
    "['223213', '312322', '223312', '222133', '312223', '223321', '223231', '132223', '132322', '223132', '322321', '322312', '231322', '222313', '221233', '213322', '122323', '321322', '221332', '133222', '123232', '323221', '222331', '132232', '321232', '212323', '232213', '232132', '331222', '232312', '332212', '213223', '123322', '322231', '321223', '231232', '233221', '231223', '213232', '312232', '233122', '322132', '223123', '322123', '232231', '323122', '323212', '122233', '212233', '123223', '332221', '122332', '221323', '332122', '232123', '212332', '232321', '322213', '233212', '313222']\n",
    "```\n",
    "There are `60` different numbers and `122233` is the lowest one and `332221` the highest of all of them.\n",
    "\n",
    "Given an array, `arr`, with string digits (from '0' to '9'), you should give the exact amount of different numbers that may be generated with the lowest and highest value but both converted into integer values, using all the digits given in the array for each generated string number.\n",
    "\n",
    "The function will be called as `proc_arr()`.\n",
    "\n",
    "```python\n",
    "proc_arr(['1', '2', '2', '3', '2', '3']) == [60, 122233, 332221]\n",
    "```\n",
    "\n",
    "If the digit '0' is present in the given array will produce string numbers with leading zeroes, that will not be not taken in account when they are converted to integers.\n",
    "\n",
    "```python\n",
    "proc_arr(['1','2','3','0','5','1','1','3']) == [3360, 1112335, 53321110]\n",
    "```\n",
    "\n",
    "You will never receive an array with only one digit repeated n times.\n",
    "\n",
    "Features of the random tests:\n",
    "\n",
    "```python\n",
    "Low performance tests:\n",
    "Number of tests: 100\n",
    "Arrays of length between 6 and 10\n",
    "\n",
    "Higher performance tests:\n",
    "Number of tests: 100\n",
    "Arrays of length between 30 and 100\n",
    "```"
   ]
  },
  {
   "cell_type": "code",
   "execution_count": 156,
   "id": "59694044-8f44-47d3-84c8-e1982ced55f4",
   "metadata": {},
   "outputs": [],
   "source": [
    "from math import factorial, prod\n",
    "def proc_arr(arr):\n",
    "    arr = sorted(arr)\n",
    "    res = factorial(len(arr)) // prod([factorial(arr.count(i)) for i in set(arr)])\n",
    "    return [res, int(''.join(arr)), int(''.join(arr)[::-1])]"
   ]
  }
 ],
 "metadata": {
  "kernelspec": {
   "display_name": "Python 3 (ipykernel)",
   "language": "python",
   "name": "python3"
  },
  "language_info": {
   "codemirror_mode": {
    "name": "ipython",
    "version": 3
   },
   "file_extension": ".py",
   "mimetype": "text/x-python",
   "name": "python",
   "nbconvert_exporter": "python",
   "pygments_lexer": "ipython3",
   "version": "3.10.6"
  }
 },
 "nbformat": 4,
 "nbformat_minor": 5
}
