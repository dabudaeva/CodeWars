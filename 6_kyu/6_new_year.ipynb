{
 "cells": [
  {
   "cell_type": "markdown",
   "id": "39fc04cf-f2bd-4ee3-90dc-b52f4c5d3fe7",
   "metadata": {},
   "source": [
    "# [New year house rental](https://www.codewars.com/kata/63aa7b499c53c5af68e86a86)\n",
    "\n",
    "You and your friends want to rent a house for the new year, but the problem is that people can go for a different number of days. It is necessary to calculate the amount that each person must pay, depending on how many days he is going to live in this house. The amount per person is the rental price divided by the number of people living in the house on a given day. Rent paid every time someone leaves the house\n",
    "\n",
    "Write a function that takes an array with the number of days each person will live in the house (the length of the array is the total number of people) and the rent per apartment per day. The function should return a dictionary where the key will be the number of days, and the value will be the amount that the person must deposit.\n",
    "\n",
    "The amount must be rounded up each time rent is paid. That is, every time someone leaves the house. Should be rounded up to the next whole number.\n",
    "\n",
    "Example:\n",
    "\n",
    "```python\n",
    "person = [7, 7, 7, 7, 1, 1, 2, 4, 5, 6]\n",
    "house_price = 100\n",
    "\n",
    "result = calculate_cost_per_person(person, house_price) \n",
    "# result == {1: 10, 2: 23, 4: 52, 5: 69, 6: 89, 7: 114}\n",
    "```"
   ]
  },
  {
   "cell_type": "code",
   "execution_count": 232,
   "id": "5e2debfd-f249-42b2-b46a-51b716e11c3c",
   "metadata": {},
   "outputs": [],
   "source": [
    "def calculate_cost_per_person(array: list[int], rental: int) -> dict[int, int]:\n",
    "    array.append(0)\n",
    "\n",
    "    sums = 0\n",
    "    persons = len(array)\n",
    "    d = {}\n",
    "\n",
    "    for i, n in enumerate(sorted(set(array))):\n",
    "        amount = (n - list(sorted(set(array)))[i-1])*rental\n",
    "        if persons!=0: previous = amount/persons\n",
    "        if previous > int(previous): previous = int(previous)+1\n",
    "        if n!=0: d[n] = int(previous+sums)\n",
    "        persons -= array.count(n)\n",
    "        if previous>0: sums += previous\n",
    "    \n",
    "    return d"
   ]
  },
  {
   "cell_type": "code",
   "execution_count": 261,
   "id": "16176949-c1af-4686-b1f0-e7839a878552",
   "metadata": {},
   "outputs": [
    {
     "data": {
      "text/plain": [
       "{2310: 337763,\n",
       " 4543: 679108,\n",
       " 4620: 691439,\n",
       " 6622: 1028076,\n",
       " 6699: 1041705,\n",
       " 7469: 1185567,\n",
       " 7700: 1231265,\n",
       " 9317: 1571139,\n",
       " 11858: 2140832,\n",
       " 13398: 2510762,\n",
       " 15862: 3148180,\n",
       " 17248: 3536607,\n",
       " 17633: 3654312,\n",
       " 17941: 3757893,\n",
       " 19173: 4218251,\n",
       " 20944: 4962736,\n",
       " 21175: 5073715,\n",
       " 21252: 5116874,\n",
       " 23639: 6722371,\n",
       " 24871: 7758175,\n",
       " 26873: 10002417,\n",
       " 27489: 11038221,\n",
       " 27643: 11556123}"
      ]
     },
     "execution_count": 261,
     "metadata": {},
     "output_type": "execute_result"
    }
   ],
   "source": [
    "person = [2310, 4543, 4620, 6622, 6699, 7469, 7700, 9317, 11858, 13398, 15862, 17248, 17633, 17941, 19173, 20944, 21175, 21252, 23639, 24871, 26873, 27489, 27643]\n",
    "\n",
    "house_price = 3363\n",
    "\n",
    "calculate_cost_per_person(person, house_price)"
   ]
  },
  {
   "cell_type": "code",
   "execution_count": null,
   "id": "48ab7f67-3722-4246-8492-b7dc65fea089",
   "metadata": {},
   "outputs": [],
   "source": []
  },
  {
   "cell_type": "code",
   "execution_count": null,
   "id": "e4ae072e-06c7-4377-884e-09b94772316a",
   "metadata": {},
   "outputs": [],
   "source": []
  }
 ],
 "metadata": {
  "kernelspec": {
   "display_name": "Python 3 (ipykernel)",
   "language": "python",
   "name": "python3"
  },
  "language_info": {
   "codemirror_mode": {
    "name": "ipython",
    "version": 3
   },
   "file_extension": ".py",
   "mimetype": "text/x-python",
   "name": "python",
   "nbconvert_exporter": "python",
   "pygments_lexer": "ipython3",
   "version": "3.10.6"
  }
 },
 "nbformat": 4,
 "nbformat_minor": 5
}
