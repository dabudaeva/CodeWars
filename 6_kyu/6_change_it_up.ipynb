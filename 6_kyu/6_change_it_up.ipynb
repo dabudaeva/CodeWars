{
 "cells": [
  {
   "cell_type": "markdown",
   "id": "2bd2c6cf-ce92-458e-a7b9-405a425e8fd0",
   "metadata": {},
   "source": [
    "# [Change it up](https://www.codewars.com/kata/58039f8efca342e4f0000023/train/python)\n",
    "\n",
    "Create a function that takes a string as a parameter and does the following, in this order:\n",
    "\n",
    "1. Replaces every letter with the letter following it in the alphabet (see note below)\n",
    "2. Makes any vowels capital\n",
    "3. Makes any consonants lower case\n",
    "\n",
    "**Note:**\n",
    "\n",
    "- the alphabet should wrap around, so ```Z``` becomes ```A```\n",
    "- in this kata, ```y``` isn't considered as a vowel.\n",
    "\n",
    "So, for example the string ```\"Cat30\"``` would return ```\"dbU30\"```\n",
    "\n",
    "```(Cat30 --> Dbu30 --> dbU30)```"
   ]
  },
  {
   "cell_type": "code",
   "execution_count": 81,
   "id": "b3741906-e50c-4f0d-a37e-7dd8f01a2b54",
   "metadata": {},
   "outputs": [],
   "source": [
    "def changer(s):\n",
    "    alphabet = 'zyxwvutsrqponmlkjihgfedcba'\n",
    "    vowels = 'aeiou'\n",
    "\n",
    "    s = s.lower()\n",
    "    for i, l in enumerate(alphabet):\n",
    "        if l in s.lower():\n",
    "            if alphabet[i-1] in vowels:\n",
    "                s = s.replace(l, alphabet[i-1].upper())\n",
    "            else: s = s.replace(l, alphabet[i-1])\n",
    "    return s"
   ]
  },
  {
   "cell_type": "code",
   "execution_count": 82,
   "id": "006364ed-7956-4502-81b6-8f3b25728c42",
   "metadata": {},
   "outputs": [
    {
     "name": "stdout",
     "output_type": "stream",
     "text": [
      "True\n",
      "True\n",
      "True\n",
      "True\n",
      "True\n",
      "True\n"
     ]
    }
   ],
   "source": [
    "print(changer('Cat30') == 'dbU30')\n",
    "print(changer('Alice') == 'bmjdf')\n",
    "print(changer('sponge1') == 'tqpOhf1')\n",
    "print(changer('Hello World') == 'Ifmmp xpsmE')\n",
    "print(changer('dogs') == 'Epht')\n",
    "print(changer('z') == 'A')"
   ]
  }
 ],
 "metadata": {
  "kernelspec": {
   "display_name": "Python 3 (ipykernel)",
   "language": "python",
   "name": "python3"
  },
  "language_info": {
   "codemirror_mode": {
    "name": "ipython",
    "version": 3
   },
   "file_extension": ".py",
   "mimetype": "text/x-python",
   "name": "python",
   "nbconvert_exporter": "python",
   "pygments_lexer": "ipython3",
   "version": "3.10.6"
  }
 },
 "nbformat": 4,
 "nbformat_minor": 5
}
