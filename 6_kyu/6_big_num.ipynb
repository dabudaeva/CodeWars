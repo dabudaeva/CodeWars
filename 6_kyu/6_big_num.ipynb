{
 "cells": [
  {
   "cell_type": "markdown",
   "id": "94cd49f9-973f-48af-940a-c04509e4aad9",
   "metadata": {},
   "source": [
    "# [Does my number look big in this?](https://www.codewars.com/kata/5287e858c6b5a9678200083c/train/python)\n",
    "\n",
    "A [Narcissistic Number](https://en.wikipedia.org/wiki/Narcissistic_number) (or Armstrong Number) is a positive number which is the sum of its own digits, each raised to the power of the number of digits in a given base. In this Kata, we will restrict ourselves to decimal (base 10).\n",
    "\n",
    "For example, take 153 (3 digits), which is narcisstic:\n",
    "\n",
    "```python\n",
    "    1^3 + 5^3 + 3^3 = 1 + 125 + 27 = 153\n",
    "```\n",
    "and 1652 (4 digits), which isn't:\n",
    "\n",
    "```python\n",
    "    1^4 + 6^4 + 5^4 + 2^4 = 1 + 1296 + 625 + 16 = 1938\n",
    "```\n",
    "\n",
    "The Challenge:\n",
    "\n",
    "Your code must return **true** or **false** (not 'true' and 'false') depending upon whether the given number is a Narcissistic number in base 10. This may be **True** and **False** in your language, e.g. PHP.\n",
    "\n",
    "Error checking for text strings or other invalid inputs is not required, only valid positive non-zero integers will be passed into the function."
   ]
  },
  {
   "cell_type": "code",
   "execution_count": 21,
   "id": "2e34ffec-7ef7-41d5-9536-1b5fdcbbbe40",
   "metadata": {},
   "outputs": [],
   "source": [
    "def narcissistic( value ):\n",
    "    return value == sum([int(i)**len(str(value)) for i in str(value)])"
   ]
  },
  {
   "cell_type": "code",
   "execution_count": 23,
   "id": "9e7ee53b-47fb-405c-a2b6-82d214d5cba1",
   "metadata": {},
   "outputs": [
    {
     "name": "stdout",
     "output_type": "stream",
     "text": [
      "True # 7 is narcissistic\n",
      "True # 371 is narcissistic\n",
      "True # 122 is not narcissistic\n",
      "True # 4887 is not narcissistic\n"
     ]
    }
   ],
   "source": [
    "print(narcissistic(7) is True, '# 7 is narcissistic');\n",
    "print(narcissistic(371) is True, '# 371 is narcissistic');\n",
    "print(narcissistic(122) is False, '# 122 is not narcissistic')\n",
    "print(narcissistic(4887)is False, '# 4887 is not narcissistic')"
   ]
  },
  {
   "cell_type": "markdown",
   "id": "eaed7a18-83b6-4eec-8f77-a0dd8269ac78",
   "metadata": {},
   "source": [
    "### Wikipedia solution:"
   ]
  },
  {
   "cell_type": "code",
   "execution_count": 25,
   "id": "6ce36206-1f6b-4a48-b830-2af9a1cb92d1",
   "metadata": {},
   "outputs": [],
   "source": [
    "def no_of_digits(num):\n",
    "    i = 0\n",
    "    while num > 0:\n",
    "        num //= 10\n",
    "        i+=1\n",
    "    return i\n",
    "\n",
    "def required_sum(num):\n",
    "    i = no_of_digits(num)\n",
    "    s = 0\n",
    "    while num > 0:\n",
    "        digit = num % 10\n",
    "        num //= 10\n",
    "        s += pow(digit, i)\n",
    "    return s\n",
    "    \n",
    "def narcissistic( value ):\n",
    "    s = required_sum(value)\n",
    "    if s == value: \n",
    "        return True\n",
    "    else: \n",
    "        return False"
   ]
  }
 ],
 "metadata": {
  "kernelspec": {
   "display_name": "Python 3 (ipykernel)",
   "language": "python",
   "name": "python3"
  },
  "language_info": {
   "codemirror_mode": {
    "name": "ipython",
    "version": 3
   },
   "file_extension": ".py",
   "mimetype": "text/x-python",
   "name": "python",
   "nbconvert_exporter": "python",
   "pygments_lexer": "ipython3",
   "version": "3.10.6"
  }
 },
 "nbformat": 4,
 "nbformat_minor": 5
}
