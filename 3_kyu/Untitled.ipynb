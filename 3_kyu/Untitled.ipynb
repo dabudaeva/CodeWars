{
 "cells": [
  {
   "cell_type": "markdown",
   "id": "d83b399c-b252-43a7-a757-83fc7b0eeb7c",
   "metadata": {},
   "source": [
    "# [How many are smaller than me?](https://www.codewars.com/kata/56a1c63f3bc6827e13000006)\n",
    "\n",
    "Write a function that given, an array arr, returns an array containing at each index i the amount of numbers that are smaller than arr[i] to the right.\n",
    "\n",
    "For example:\n",
    "```python\n",
    "* Input [5, 4, 3, 2, 1] => Output [4, 3, 2, 1, 0]\n",
    "* Input [1, 2, 0] => Output [1, 1, 0]\n",
    "```\n",
    "If you've completed this one and you feel like testing your performance tuning of this same kata, head over to the much tougher version How many are smaller than me II?\n",
    "\n"
   ]
  },
  {
   "cell_type": "code",
   "execution_count": 1,
   "id": "9ff85a73-ad9b-4a5a-93da-5c0c176b0588",
   "metadata": {},
   "outputs": [],
   "source": [
    "import numpy as np\n",
    "def smaller1(arr):\n",
    "    return [sum(np.array(arr[i+1:]) > n) for i, n in enumerate(arr)]"
   ]
  },
  {
   "cell_type": "code",
   "execution_count": 2,
   "id": "0e62ae9f-9898-4eb0-b5ca-107f0393d5bd",
   "metadata": {},
   "outputs": [],
   "source": [
    "def smaller2(arr):\n",
    "    return [sorted(arr[ch:]).index(x) for ch, x in enumerate(arr)]"
   ]
  },
  {
   "cell_type": "code",
   "execution_count": null,
   "id": "eadc87f7-8222-43bf-87cd-57b47d38aee2",
   "metadata": {},
   "outputs": [],
   "source": []
  },
  {
   "cell_type": "code",
   "execution_count": 3,
   "id": "88a0c185-58d6-4e8c-b6a5-7d0789f481b1",
   "metadata": {},
   "outputs": [],
   "source": [
    "def smaller4(arr):\n",
    "    return [sum([1 for s in arr[i+1:] if s<n]) for i, n in enumerate(arr)]"
   ]
  },
  {
   "cell_type": "code",
   "execution_count": null,
   "id": "ac1a8ade-7640-49c4-b858-84e3a1d6f5bb",
   "metadata": {},
   "outputs": [],
   "source": []
  },
  {
   "cell_type": "code",
   "execution_count": 4,
   "id": "886347f0-c012-413a-9a5a-2ee11da7235e",
   "metadata": {},
   "outputs": [],
   "source": [
    "def smaller5(arr):\n",
    "    return [sum(1 for _ in filter(lambda s: s<n, arr[i+1:])) for i, n in enumerate(arr)]"
   ]
  },
  {
   "cell_type": "code",
   "execution_count": null,
   "id": "910b748d-c352-4f94-a66a-cd9b79ca829d",
   "metadata": {},
   "outputs": [],
   "source": []
  },
  {
   "cell_type": "code",
   "execution_count": 5,
   "id": "02f5c581-5fef-471f-b0e5-f50faf14e429",
   "metadata": {},
   "outputs": [],
   "source": [
    "from functools import reduce\n",
    "def smaller6(arr):\n",
    "    return [reduce(lambda acc, s: acc + 1 if s<n else 0, arr[i+1:], 0) for i, n in enumerate(arr)]"
   ]
  },
  {
   "cell_type": "code",
   "execution_count": null,
   "id": "4cc54931-803f-4bcf-81f8-f064997119b4",
   "metadata": {},
   "outputs": [],
   "source": []
  },
  {
   "cell_type": "code",
   "execution_count": 6,
   "id": "42ae188e-e541-4c78-8a30-4a04593ad17c",
   "metadata": {},
   "outputs": [],
   "source": [
    "def smaller7(arr):\n",
    "    l = []\n",
    "    for i, n in enumerate(arr):\n",
    "        l.extend([sum([s<n for s in arr[i+1:] if s<n])])\n",
    "    return l"
   ]
  },
  {
   "cell_type": "code",
   "execution_count": null,
   "id": "1fe51cdf-7ae9-45ac-8726-0985c0ad0cb3",
   "metadata": {},
   "outputs": [],
   "source": []
  },
  {
   "cell_type": "code",
   "execution_count": 7,
   "id": "b8a4d689-57d8-4d66-a1ea-be962ac416bc",
   "metadata": {},
   "outputs": [],
   "source": [
    "import time\n",
    "import random\n",
    "arr = [random.randint(-61959, 61959) for i in range(6195)]"
   ]
  },
  {
   "cell_type": "code",
   "execution_count": 8,
   "id": "31aa6345-f7fa-4d0a-89a9-fac6ff33d24d",
   "metadata": {},
   "outputs": [
    {
     "name": "stdout",
     "output_type": "stream",
     "text": [
      "2.954996109008789\n"
     ]
    }
   ],
   "source": [
    "st = time.time()\n",
    "output1 = smaller1(arr)\n",
    "en = time.time()\n",
    "print(en-st)"
   ]
  },
  {
   "cell_type": "code",
   "execution_count": 9,
   "id": "068f9a29-fc3f-43f2-a9e5-2c6c564e4ad0",
   "metadata": {},
   "outputs": [
    {
     "name": "stdout",
     "output_type": "stream",
     "text": [
      "2.542762279510498\n"
     ]
    }
   ],
   "source": [
    "st = time.time()\n",
    "output2 = smaller2(arr)\n",
    "en = time.time()\n",
    "print(en-st)"
   ]
  },
  {
   "cell_type": "code",
   "execution_count": 10,
   "id": "03a579d7-1ef5-441f-9e79-149b177930a7",
   "metadata": {},
   "outputs": [
    {
     "name": "stdout",
     "output_type": "stream",
     "text": [
      "0.7993249893188477\n"
     ]
    }
   ],
   "source": [
    "st = time.time()\n",
    "output4 = smaller4(arr)\n",
    "en = time.time()\n",
    "print(en-st)"
   ]
  },
  {
   "cell_type": "code",
   "execution_count": 11,
   "id": "d0f2c9f0-835c-4be1-86a0-7d019b426576",
   "metadata": {},
   "outputs": [
    {
     "name": "stdout",
     "output_type": "stream",
     "text": [
      "1.5909209251403809\n"
     ]
    }
   ],
   "source": [
    "st = time.time()\n",
    "output5 = smaller5(arr)\n",
    "en = time.time()\n",
    "print(en-st)"
   ]
  },
  {
   "cell_type": "code",
   "execution_count": 12,
   "id": "f237562b-4905-402a-a202-79bf82c66588",
   "metadata": {},
   "outputs": [
    {
     "name": "stdout",
     "output_type": "stream",
     "text": [
      "1.5479066371917725\n"
     ]
    }
   ],
   "source": [
    "st = time.time()\n",
    "output6 = smaller6(arr)\n",
    "en = time.time()\n",
    "print(en-st)"
   ]
  },
  {
   "cell_type": "code",
   "execution_count": 13,
   "id": "83c64c2b-36ae-46ad-b952-0984f798f76f",
   "metadata": {},
   "outputs": [
    {
     "name": "stdout",
     "output_type": "stream",
     "text": [
      "0.8947010040283203\n"
     ]
    }
   ],
   "source": [
    "st = time.time()\n",
    "output7 = smaller7(arr)\n",
    "en = time.time()\n",
    "print(en-st)"
   ]
  }
 ],
 "metadata": {
  "kernelspec": {
   "display_name": "Python 3 (ipykernel)",
   "language": "python",
   "name": "python3"
  },
  "language_info": {
   "codemirror_mode": {
    "name": "ipython",
    "version": 3
   },
   "file_extension": ".py",
   "mimetype": "text/x-python",
   "name": "python",
   "nbconvert_exporter": "python",
   "pygments_lexer": "ipython3",
   "version": "3.10.6"
  }
 },
 "nbformat": 4,
 "nbformat_minor": 5
}
