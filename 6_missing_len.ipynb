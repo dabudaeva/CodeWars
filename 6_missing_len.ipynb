{
 "cells": [
  {
   "cell_type": "markdown",
   "id": "9af7f03f-d939-489c-ae4b-d7d8851b4155",
   "metadata": {},
   "source": [
    "# [Length of missing array](https://www.codewars.com/kata/57b6f5aadb5b3d0ae3000611)\n",
    "\n",
    "You get an array of arrays.\n",
    "\n",
    "If you sort the arrays by their length, you will see, that their length-values are consecutive.\n",
    "\n",
    "But one array is missing!\n",
    "\n",
    "\n",
    "You have to write a method, that return the length of the missing array.\n",
    "\n",
    "### Example:\n",
    "```python\n",
    "[[1, 2], [4, 5, 1, 1], [1], [5, 6, 7, 8, 9]] --> 3\n",
    "```\n",
    "If the array of arrays is null/nil or empty, the method should return 0.\n",
    "\n",
    "When an array in the array is null or empty, the method should return 0 too!\n",
    "\n",
    "There will always be a missing element and its length will be always between the given arrays.\n",
    "\n",
    "Have fun coding it and please don't forget to vote and rank this kata! :-)\n",
    "\n",
    "I have created other katas. Have a look if you like coding and challenges."
   ]
  },
  {
   "cell_type": "code",
   "execution_count": 64,
   "id": "6dea399a-a639-429d-9211-71dfc19453d0",
   "metadata": {},
   "outputs": [],
   "source": [
    "def get_length_of_missing_array(array_of_arrays):\n",
    "    l = [len(i) if i is not None and len(i) != 0 else None for i in array_of_arrays]\n",
    "    if l == [] or None in l: return 0\n",
    "    else: return [i for i in range(min(l), max(l)+1) if i not in l][0]"
   ]
  },
  {
   "cell_type": "code",
   "execution_count": 68,
   "id": "d947768b-4016-4059-bf83-9d137872c903",
   "metadata": {},
   "outputs": [
    {
     "name": "stdout",
     "output_type": "stream",
     "text": [
      "True\n",
      "True\n",
      "True\n",
      "True\n"
     ]
    }
   ],
   "source": [
    "print(get_length_of_missing_array([[1, 2], [4, 5, 1, 1], [1], [5, 6, 7, 8, 9]]) == 3)\n",
    "print(get_length_of_missing_array([[5, 2, 9], [4, 5, 1, 1], [1], [5, 6, 7, 8, 9]]) == 2)\n",
    "print(get_length_of_missing_array([[None], [None, None, None]]) == 2)\n",
    "print(get_length_of_missing_array([['a', 'a', 'a'],\n",
    "                                   ['a', 'a'], \n",
    "                                   ['a', 'a', 'a', 'a'], \n",
    "                                   ['a'], \n",
    "                                   ['a', 'a', 'a', 'a','a', 'a']]) == 5)"
   ]
  }
 ],
 "metadata": {
  "kernelspec": {
   "display_name": "Python 3 (ipykernel)",
   "language": "python",
   "name": "python3"
  },
  "language_info": {
   "codemirror_mode": {
    "name": "ipython",
    "version": 3
   },
   "file_extension": ".py",
   "mimetype": "text/x-python",
   "name": "python",
   "nbconvert_exporter": "python",
   "pygments_lexer": "ipython3",
   "version": "3.10.6"
  }
 },
 "nbformat": 4,
 "nbformat_minor": 5
}
