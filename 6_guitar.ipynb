{
 "cells": [
  {
   "cell_type": "markdown",
   "id": "39fc04cf-f2bd-4ee3-90dc-b52f4c5d3fe7",
   "metadata": {},
   "source": [
    "# Guitar #1: Find the frets\n",
    "\n",
    "### Intro\n",
    "Your friend recently started learning how to play a guitar. He asked for your help to write a program that will help to find frets for each note on the guitar.\n",
    "\n",
    "### Main task:\n",
    "He wants to enter 2-4 parameters: ```note, exact, string and position```. All inputs will be valid.\n",
    "\n",
    "1. note - \"name\" of the note. There are 12 names: ```'A', 'A#', 'B', 'C', 'C#', 'D', 'D#', 'E', 'F', 'F#', 'G', 'G#'```. They are represents all octave semitones.\n",
    "\n",
    "2. exact - boolean parameter. If it's true, you should find only exact same 'high' notes (See 'little tip' below in the description). If it's false - return all notes frets with the same name.\n",
    "\n",
    "3. string [only for exact === true] - number of the string for current note. ```1 <= string <= 6```.\n",
    "\n",
    "4. position [only for exact === true] - every string contain ```1``` or ```2``` notes with the same name (I will explain later). This parameter defines exactly what note should be chose.\n",
    "\n",
    "Depending on ```exact``` value, return all frets with same note name or exactly the same notes.\n",
    "\n",
    "Output format: \n",
    "```[(string, fret), (string, fret), (string,fret), ...]```.\n",
    "\n",
    "Where ```1 <= string <= 6``` and ```0 <= fret <= 22```. Both are integers. Frets could be placed in any order in the output array.\n",
    "\n",
    "### SOME MUSICAL THEORY:\n",
    "Guitar neck has 22-24 frets (in this Kata we will use 22-frets guitar). This means each string contains 23 semitones: open string (is 0 fret) plus 22 frets.\n",
    "\n",
    "In this Kata guitar has standard tuning. It describes what name has each string on 0 fret (open string). Standard tuning: EBGDAE (from 1st string to 6th).\n",
    "\n",
    "\"Difference\" between two adjacent notes from the 'notes list' equals a semitone. \"Difference\" between strings equals 5 semitones, except B-G strings with 4 semitones difference.\n",
    "\n",
    "Short piece of the guitar neck, to show you how it looks like:\n",
    "\n",
    "|string\\freat| 0  | 1  | 2  | 3  | 4  | 5  | 6  | 7  | 8  | 9  | 10 | 11 | 12 | 13 |...|\n",
    "|------------|:---|:---|:---|:---|:---|:---|:---|:---|:---|:---|:---|:---|:---|:---|---|\n",
    "|      1     | E  | F  | F# | G  | G# | A  | A# | B  | C  | C# | D  | D# | E  | F  |...|\n",
    "|      2     | B  | C  | C# | D  | D# | E  | F  | F# | G  | G# | A  | A# | B  | C  |...|\n",
    "|      3     | G  | G# | A  | A# | B  | C  | C# | D  | D# | E  | F  | F# | G  | G# |...|\n",
    "|      4     | D  | D# | E  | F  | F# | G  | G# | A  | A# | B  | C  | C# | D  | D# |...|\n",
    "|      5     | A  | A# | B  | C  | C# | D  | D# | E  | F  | F# | G  | G# | A  | A# |...|\n",
    "|      6     | E  | F  | F# | G  | G# | A  | A# | B  | C  | C# | D  | D# | E  | F  |...|\n",
    "\n",
    "Let me explain ```position``` parameter meaning. The notes with the same name could be found on the string once or twice. Let ```position = 1``` be for left note (smaller fret) and ```position = 2``` is for right note if such exist (bigger fret). Take a look at this example:\n",
    "\n",
    "|string\\freat| 0  | 1  | 2  | 3  | 4  | 5  | 6  | 7  | 8  | 9  | 10 | 11 | 12 | 13 |...|\n",
    "|------------|:---|:---|:---|:---|:---|:---|:---|:---|:---|:---|:---|:---|:---|:---|---|\n",
    "|      1     | ```E```  | *F*  | F# | G  | G# | A  | A# | B  | C  | C# | D  | D# | ```E```  | *F*  |...|\n",
    "\n",
    "The notes with the same names marked: ```'E'```: ```(1, 0)``` and ```(1, 12)```, ```'F'```: ```(1, 1)``` and ```(1, 13)``` and so on.\n",
    "\n",
    "**A little tip**\n",
    "\n",
    "To understand what should function return, think about notes as about vibration frequency. So if you should return exactly same note, you have to find frets that represent same vibration frequency. You can image that with math. Let the input is ```getFrets(\"E\", true, 1, 1)```. So we need to find same frets for note 'E' on the 1st string 1st position. It's position is ```(1, 0)``` - ```(string, fret)```. Let call it ```x```. We know the \"difference\" between strings equals 5 semitones. So ```(2, 0) = 'B' on 2nd string = x - 5```. Then we should go right on this string, adding 1 semitone for each step. ```C = x - 4```, ```C# = x - 3```, ```D = x -2```, ```D# = x -1```, ```E = x```. So ```(2, 5) = (1, 0)``` and so on. Take a look at this example:\n",
    "\n",
    "|string\\freat| 0  | 1  | 2  | 3  | 4  | 5  | 6  | 7  | 8  | 9  | 10 | 11 | 12 | 13 |...|\n",
    "|------------|:---|:---|:---|:---|:---|:---|:---|:---|:---|:---|:---|:---|:---|:---|---|\n",
    "|      1     | **E**  | F  | F# | G  | G# | A  | A# | B  | C  | C# | D  | D# | E  | F  |...|\n",
    "|      2     | B  | C  | C# | D  | D# | **E**  | F  | F# | G  | G# | A  | A# | B  | C  |...|\n",
    "|      3     | G  | G# | A  | A# | B  | C  | C# | D  | D# | **E**  | F  | F# | G  | G# |...|\n",
    "|      4     | D  | D# | E  | F  | F# | G  | G# | A  | A# | B  | C  | C# | D  | D# |...|\n",
    "|      5     | A  | A# | B  | C  | C# | D  | D# | E  | F  | F# | G  | G# | A  | A# |...|\n",
    "|      6     | E  | F  | F# | G  | G# | A  | A# | B  | C  | C# | D  | D# | E  | F  |...|\n",
    "\n",
    "I marked the same note. So for getFrets(\"E\", true, 1, 1) we should return frets that represent the same note as ```(1, 0)```.\n",
    "\n",
    "The answer is: ```[(1, 0), (2, 5), (3, 9), (4, 14), (5, 19)]```."
   ]
  },
  {
   "cell_type": "raw",
   "id": "6f5e002c-63d7-42d5-88dc-711a31be24ca",
   "metadata": {
    "tags": []
   },
   "source": [
    "'E', True, 1, 1 -> [(1,0), (2,5), (3,9), (4,14), (5,19)]\n",
    "'E', True, 1, 2 -> [(1,12), (2,17), (3,21)]\n",
    "'E', True, 6, 2 -> [(4,2), (5,7), (6,12)]\n",
    "'G#', False -> [(1,4), (1,16), (2,9), (2,21), (3,1), (3,13), (4,6), (4,18), (5,11), (6,4), (6,16)]\n",
    "'D#', False -> [(1,11), (2,4), (2,16), (3,8), (3,20), (4,1), (4,13), (5,6), (5,18), (6,11)]"
   ]
  },
  {
   "cell_type": "code",
   "execution_count": 55,
   "id": "86f9bf9e-f629-4a81-a8cc-e8218a2fc5dc",
   "metadata": {
    "jupyter": {
     "source_hidden": true
    },
    "tags": []
   },
   "outputs": [
    {
     "data": {
      "text/plain": [
       "[(2, 0), (3, 4), (4, 9), (5, 14), (6, 19)]"
      ]
     },
     "execution_count": 55,
     "metadata": {},
     "output_type": "execute_result"
    }
   ],
   "source": [
    "import numpy as np\n",
    "notes = ['A', 'A#', 'B', 'C', 'C#', 'D', 'D#', 'E', 'F', 'F#', 'G', 'G#']\n",
    "starts = [7, 2, 10, 5, 0, 7]\n",
    "neck = np.array([np.array((notes*3)[i:23+i]) for i in starts])\n",
    "\n",
    "def get_frets(note, exact, *string_position):\n",
    "    string, freat = np.where(neck == note)\n",
    "    string = string+1\n",
    "    if exact:\n",
    "        position = (string_position[0], string_position[1] - 1)\n",
    "        \n",
    "        if string_position[1] == 2:\n",
    "            position = (string_position[0], freat[np.where(string == string_position[0])[0]].max())\n",
    "        elif string_position[1] == 1:\n",
    "            position = (string_position[0], freat[np.where(string == string_position[0])[0]].min())\n",
    "        \n",
    "        result = [position]\n",
    "        a = position[0]\n",
    "        b = position[1]\n",
    "        while a!=0:\n",
    "            for i, x in enumerate(b-freat[np.where(string == a)[0]]):\n",
    "                if x in [4, 5]:\n",
    "                    result.append((a, freat[np.where(string == a)[0]][i]))\n",
    "                    b = freat[np.where(string == a)[0]][i]\n",
    "            a-=1\n",
    "        \n",
    "        a = position[0]\n",
    "        b = position[1]\n",
    "        while a!=7:\n",
    "            for i, x in enumerate(freat[np.where(string == a)[0]]-b):\n",
    "                if x in [4, 5]:\n",
    "                    result.append((a, freat[np.where(string == a)[0]][i]))\n",
    "                    b = freat[np.where(string == a)[0]][i]\n",
    "            a+=1\n",
    "        \n",
    "        result = sorted(result)\n",
    "        \n",
    "        return result\n",
    "    else:\n",
    "        return list(zip(string, freat))\n",
    "    \n",
    "get_frets('B', True, 2, 1) # get_frets('F#', True, 3, 2): should equal [(1, 14), (2, 19)]"
   ]
  },
  {
   "cell_type": "code",
   "execution_count": 69,
   "id": "63beb55b-a1fe-43da-9bc8-b0baaa81c835",
   "metadata": {},
   "outputs": [],
   "source": [
    "import numpy as np\n",
    "notes = ['A', 'A#', 'B', 'C', 'C#', 'D', 'D#', 'E', 'F', 'F#', 'G', 'G#']\n",
    "starts = [7, 2, 10, 5, 0, 7]\n",
    "neck = np.array([np.array((notes*3)[i:23+i]) for i in starts])\n",
    "\n",
    "def get_frets(note, exact, *string_position):\n",
    "    string, freat = np.where(neck == note)\n",
    "    string = string+1\n",
    "    if exact:\n",
    "        position = (string_position[0], string_position[1] - 1)\n",
    "        \n",
    "        if string_position[1] == 2:\n",
    "            position = (string_position[0], freat[np.where(string == string_position[0])[0]].max())\n",
    "        elif string_position[1] == 1:\n",
    "            position = (string_position[0], freat[np.where(string == string_position[0])[0]].min())\n",
    "        \n",
    "        result = [position]\n",
    "        a = position[0]\n",
    "        b = position[1]\n",
    "        while a!=0:\n",
    "            for i, x in enumerate(b-freat[np.where(string == a)[0]]):\n",
    "                if x in [4, 5]:\n",
    "                    result.append((a, freat[np.where(string == a)[0]][i]))\n",
    "                    b = freat[np.where(string == a)[0]][i]\n",
    "            a-=1\n",
    "        \n",
    "        a = position[0]\n",
    "        b = position[1]\n",
    "        while a!=7:\n",
    "            for i, x in enumerate(freat[np.where(string == a)[0]]-b):\n",
    "                if x in [4, 5]:\n",
    "                    result.append((a, freat[np.where(string == a)[0]][i]))\n",
    "                    b = freat[np.where(string == a)[0]][i]\n",
    "            a+=1\n",
    "        \n",
    "        result = sorted(result)\n",
    "        print(list(zip(string, freat)))\n",
    "        return result\n",
    "    else:\n",
    "        return list(zip(string, freat))"
   ]
  },
  {
   "cell_type": "code",
   "execution_count": 64,
   "id": "4a73c35c-d88a-4bcc-af79-bfdcbaf4af41",
   "metadata": {},
   "outputs": [
    {
     "name": "stdout",
     "output_type": "stream",
     "text": [
      "[(1, 7), (1, 19), (2, 0), (2, 12), (3, 4), (3, 16), (4, 9), (4, 21), (5, 2), (5, 14), (6, 7), (6, 19)]\n",
      "[(2, 0), (3, 4), (4, 9), (5, 14), (6, 19)]\n"
     ]
    }
   ],
   "source": [
    "print(get_frets('B', True, 2, 1)) # get_frets('F#', True, 3, 2): should equal [(1, 14), (2, 19)]"
   ]
  },
  {
   "cell_type": "code",
   "execution_count": 70,
   "id": "9371887a-7528-4bd0-a1df-df207dd08b99",
   "metadata": {},
   "outputs": [
    {
     "name": "stdout",
     "output_type": "stream",
     "text": [
      "[(1, 11), (2, 4), (2, 16), (3, 8), (3, 20), (4, 1), (4, 13), (5, 6), (5, 18), (6, 11)]\n",
      "[(1, 11), (2, 16), (3, 20)]\n"
     ]
    }
   ],
   "source": [
    "print(get_frets('D#', True, 1, 2)) # get_frets('D#', True, 1, 2): should equal []"
   ]
  },
  {
   "cell_type": "code",
   "execution_count": 66,
   "id": "4bc9af82-1214-4e5e-b8fe-0cfe35d22aec",
   "metadata": {},
   "outputs": [
    {
     "name": "stdout",
     "output_type": "stream",
     "text": [
      "[(1, 6), (1, 18), (2, 11), (3, 3), (3, 15), (4, 8), (4, 20), (5, 1), (5, 13), (6, 6), (6, 18)]\n",
      "[(1, 6), (2, 11), (3, 15), (4, 20)]\n"
     ]
    }
   ],
   "source": [
    "print(get_frets('A#', True, 2, 2)) # get_frets('A#', True, 2, 2): should equal [(1, 18)]"
   ]
  }
 ],
 "metadata": {
  "kernelspec": {
   "display_name": "Python 3 (ipykernel)",
   "language": "python",
   "name": "python3"
  },
  "language_info": {
   "codemirror_mode": {
    "name": "ipython",
    "version": 3
   },
   "file_extension": ".py",
   "mimetype": "text/x-python",
   "name": "python",
   "nbconvert_exporter": "python",
   "pygments_lexer": "ipython3",
   "version": "3.10.6"
  }
 },
 "nbformat": 4,
 "nbformat_minor": 5
}
