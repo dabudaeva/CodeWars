{
 "cells": [
  {
   "cell_type": "markdown",
   "id": "585239bf-adf2-42ad-90e0-427e2d2c855c",
   "metadata": {},
   "source": [
    "# [count '9's from 1 to n](https://www.codewars.com/kata/55143152820d22cdf00001bb)\n",
    "\n",
    "### DESCRIPTION:\n",
    "\n",
    "It's 9 time!\n",
    "\n",
    "I want to count from 1 to n. How many times will I use a '9'?\n",
    "\n",
    "9, 19, 91.. will contribute one '9' each, 99, 199, 919.. wil contribute two '9's each...etc\n",
    "\n",
    "**Note**: n will always be a positive integer.\n",
    "\n",
    "### Examples (input -> output)\n",
    "```python\n",
    "8  -> 0\n",
    "9  -> 1\n",
    "10 -> 1\n",
    "98 -> 18\n",
    "100 -> 20\n",
    "```"
   ]
  },
  {
   "cell_type": "code",
   "execution_count": 422,
   "id": "d999345c-1a6b-4d07-89c5-2016bc665d61",
   "metadata": {},
   "outputs": [],
   "source": [
    "def count_nines(n):\n",
    "    sums = 0\n",
    "    for i in range(1, len(str(n))):\n",
    "        digit = int(str(n)[::-1][i])\n",
    "        sums += digit * i * (10**(i-1))\n",
    "        # In every 10: 1 \"9\"\n",
    "        # In every 100: 20 \"9\"\n",
    "        # In every 1000: 300 \"9\"\n",
    "        # In every 10000: 4000 \"9\"\n",
    "        # so, in 12 345: 1*4000 + 2*300 + 3*20 + 4*1 = 4664 \"9\"\n",
    "        if digit == 9:\n",
    "            sums += int(str(n)[-i:])\n",
    "        # the number of '9' that starts with '9' \n",
    "        # will be exactly as many as follows after '9'\n",
    "    return sums + str(n).count('9') # count how many nines directly in the 'n'"
   ]
  },
  {
   "cell_type": "code",
   "execution_count": 429,
   "id": "a0bbf05a-0856-4211-831e-15364e1e726e",
   "metadata": {
    "tags": []
   },
   "outputs": [
    {
     "name": "stdout",
     "output_type": "stream",
     "text": [
      "True\n",
      "True\n",
      "True\n",
      "True\n",
      "True\n",
      "True\n",
      "True\n",
      "True\n",
      "True\n",
      "True\n",
      "True\n",
      "True\n",
      "True\n"
     ]
    }
   ],
   "source": [
    "print(count_nines(1)==0)\n",
    "print(count_nines(9)==1)\n",
    "print(count_nines(100)==20)\n",
    "print(count_nines(200)==40)\n",
    "print(count_nines(201)==40)\n",
    "print(count_nines(278)==47)\n",
    "print(count_nines(279)==48)\n",
    "print(count_nines(280)==48)\n",
    "print(count_nines(908)==189)\n",
    "print(count_nines(909)==191)\n",
    "print(count_nines(99999)==50000)\n",
    "print(count_nines(565754)==275645)\n",
    "print(count_nines(6338485441223723380) == 11370670481076158968)"
   ]
  }
 ],
 "metadata": {
  "kernelspec": {
   "display_name": "Python 3 (ipykernel)",
   "language": "python",
   "name": "python3"
  },
  "language_info": {
   "codemirror_mode": {
    "name": "ipython",
    "version": 3
   },
   "file_extension": ".py",
   "mimetype": "text/x-python",
   "name": "python",
   "nbconvert_exporter": "python",
   "pygments_lexer": "ipython3",
   "version": "3.10.6"
  }
 },
 "nbformat": 4,
 "nbformat_minor": 5
}
