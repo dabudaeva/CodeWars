{
 "cells": [
  {
   "cell_type": "markdown",
   "id": "c550ddf5-588d-41ea-9281-ea1fe1ed6475",
   "metadata": {},
   "source": [
    "# [A Simple Music Encoder](https://www.codewars.com/kata/58db9545facc51e3db00000a)\n",
    "You have been hired by a major MP3 player manufacturer to implement a new music compression standard. In this kata you will implement the ENCODER, and its companion kata deals with the [DECODER](https://www.codewars.com/kata/a-simple-music-decoder). It can be considered a harder version of [Range Extraction](https://www.codewars.com/kata/range-extraction).\n",
    "\n",
    "### Specification\n",
    "The input signal is represented as an array of integers. Several cases of regularities can be shortened.\n",
    "\n",
    "- A sequence of 2 or more identical numbers is shortened as ```number*count```\n",
    "- A sequence of 3 or more consecutive numbers is shortened as ```first-last```. This is true for both ascending and descending order\n",
    "- A sequence of 3 or more numbers with the same interval is shortened as ```first-last/interval```. Note that the interval does NOT need a sign\n",
    "- Compression happens left to right\n",
    "\n",
    "### Examples\n",
    "- ```[1, 3, 4, 5, 7, 8, 9, 10, 11, 14, 15, 17, 18, 19, 20]``` is compressed to ```\"1,3-5,7-11,14,15,17-20\"```\n",
    "- ```[0, 2, 4, 5, 7, 8, 9]``` is compressed to ```\"0-4/2,5,7-9\"```\n",
    "- ```[0, 2, 4, 5, 7, 6, 5]``` is compressed to ```\"0-4/2,5,7-5\"```\n",
    "- ```[0, 2, 4, 5, 7, 6, 5, 5, 5, 5, 5]``` is compressed to ```\"0-4/2,5,7-5,5*4\"```\n",
    "\n",
    "### Input\n",
    "A non-empty array of integers\n",
    "\n",
    "### Output\n",
    "A string of comma-separated integers and sequence descriptors"
   ]
  },
  {
   "cell_type": "raw",
   "id": "d3d24918-2233-431d-b5bd-ed598cc4a96a",
   "metadata": {},
   "source": [
    "\"2 identical numbers\", [1,2,2,3] -> \"1,2*2,3\"\n",
    "\"3 consecutive numbers, ascending\", [1,3,4,5,7] -> \"1,3-5,7\"\n",
    "\"3 consecutive numbers, descending\", [1,5,4,3,7] -> \"1,5-3,7\"\n",
    "\"3 numbers with same interval, descending\", [1,10,8,6,7] -> \"1,10-6/2,7\""
   ]
  },
  {
   "cell_type": "code",
   "execution_count": 1,
   "id": "02108d1b-0826-4b45-adaf-66903ab175e0",
   "metadata": {},
   "outputs": [],
   "source": [
    "def compress(raw):\n",
    "    diff = [raw[i]-raw[i-1] for i in range(1, len(raw))]\n",
    "    changes = [i for i in range(1, len(diff)) if diff[i] != diff[i-1]]\n",
    "\n",
    "    changes.insert(0, 0)\n",
    "    changes.append(len(raw)-1)\n",
    "\n",
    "    sequence = [raw[i] for i in changes]\n",
    "    stepen = [abs(diff[i]) for i in changes[:-1]]\n",
    "    between = [changes[i]-changes[i-1] for i in range(1, len(changes))]\n",
    "    indexes = [i for i, n in enumerate(between) if n > 1]\n",
    "    for i in range(1, len(indexes)):\n",
    "        if indexes[i]-indexes[i-1] == 1:\n",
    "            between[indexes[i]] = between[indexes[i]]-1\n",
    "\n",
    "    rez = []\n",
    "    for i, n in enumerate(sequence):\n",
    "        if i in indexes:\n",
    "            if sequence[i] == sequence[i+1]:\n",
    "                rez.append(f'{sequence[i]}*{between[i]+1}')\n",
    "            else:\n",
    "                if stepen[i]==1:\n",
    "                    rez.append(f'{sequence[i]}-{sequence[i+1]}')\n",
    "                elif stepen[i]>1:\n",
    "                    rez.append(f'{sequence[i]}-{sequence[i+1]}/{stepen[i]}')\n",
    "        elif i-1 in indexes:\n",
    "            pass\n",
    "        else: \n",
    "            rez.append(n)\n",
    "    result = [f'{v}*2' if v in rez[:x] and type(v)==int else v for x, v in enumerate(rez)]\n",
    "    inds = [x for x in range(len(rez)-1) if rez[x] == rez[x+1]]\n",
    "    for index in sorted(inds, reverse=True):\n",
    "        del result[index]\n",
    "\n",
    "    result = ','.join([str(i) for i in result])\n",
    "    return result"
   ]
  },
  {
   "cell_type": "code",
   "execution_count": null,
   "id": "e4b181ca-8622-409a-aee3-a99c1e6bf588",
   "metadata": {},
   "outputs": [],
   "source": [
    "[99, 14, 10, 6, 2, 161, 156, 151, 146, 61, 44, 48, 52, 56, 60, 57, 54, 51, 48, 23, 23, 191, 189, 187, 92, 15, 16, 17, 86, 103, 107, 111, 115, 161, 158, 155, 152, 149, 5, 96, 96, 174]; : '99,14-2/4,161-146/5,61,44-60/4,60-48/3,23*2,191-187/2,92,15-17,86,103-115/4,161-149/3,5,96*2,174' should equal '99,14-2/4,161-146/5,61,44-60/4,57-48/3,23*2,191-187/2,92,15-17,86,103-115/4,161-149/3,5,96*2,174'\n"
   ]
  },
  {
   "cell_type": "code",
   "execution_count": 68,
   "id": "3ec44d83-c042-4408-a65b-eaa7dfbc20f5",
   "metadata": {},
   "outputs": [],
   "source": [
    "raw = [1, 1, 2, 3, 4, 5, 7, 9]"
   ]
  },
  {
   "cell_type": "code",
   "execution_count": 69,
   "id": "2f4d540b-c9b6-4e2b-8af3-c1671dac75e6",
   "metadata": {},
   "outputs": [
    {
     "data": {
      "text/plain": [
       "'1,1-5,5-9/2'"
      ]
     },
     "execution_count": 69,
     "metadata": {},
     "output_type": "execute_result"
    }
   ],
   "source": [
    "diff = [raw[i]-raw[i-1] for i in range(1, len(raw))]\n",
    "changes = [i for i in range(1, len(diff)) if diff[i] != diff[i-1]]\n",
    "\n",
    "changes.insert(0, 0)\n",
    "changes.append(len(raw)-1)\n",
    "\n",
    "sequence = [raw[i] for i in changes]\n",
    "stepen = [abs(diff[i]) for i in changes[:-1]]\n",
    "between = [changes[i]-changes[i-1] for i in range(1, len(changes))]\n",
    "indexes = [i for i, n in enumerate(between) if n > 1]\n",
    "for i in range(1, len(indexes)):\n",
    "    if indexes[i]-indexes[i-1] == 1:\n",
    "        between[indexes[i]] = between[indexes[i]]-1\n",
    "        \n",
    "rez = []\n",
    "for i, n in enumerate(sequence):\n",
    "    if i in indexes:\n",
    "        if sequence[i] == sequence[i+1]:\n",
    "            rez.append(f'{sequence[i]}*{between[i]+1}')\n",
    "        else:\n",
    "            if stepen[i]==1:\n",
    "                rez.append(f'{sequence[i]}-{sequence[i+1]}')\n",
    "            elif stepen[i]>1:\n",
    "                rez.append(f'{sequence[i]}-{sequence[i+1]}/{stepen[i]}')\n",
    "    elif i-1 in indexes:\n",
    "        pass\n",
    "    else: \n",
    "        rez.append(n)\n",
    "result = [f'{v}*2' if v in rez[:x] and type(v)==int else v for x, v in enumerate(rez)]\n",
    "inds = [x for x in range(len(rez)-1) if rez[x] == rez[x+1]]\n",
    "for index in sorted(inds, reverse=True):\n",
    "    del result[index]\n",
    "\n",
    "result = ','.join([str(i) for i in result])\n",
    "result"
   ]
  },
  {
   "cell_type": "markdown",
   "id": "711c0489-eac6-4962-9316-7fc934e9f898",
   "metadata": {},
   "source": [
    "[142, 128, 124, 120, 116, 112, 131, 94, 91, 51, 47, 43, 39, 85, 81, 77, 85, 89, 180, 179, 178, 101, 102, 103, 104, 105, 103, 101, 150, 191, 63, 58, 24, 5, 5, 5, 5, 5, 55, 58, 61, 192, 194, 196, 198, 200];\n",
    "'142,128-112/4,131,94,91,51-39/4,85-77/4,85,89,180-178,101-105,105-101/2,150,191,63,58,24,5*5,55-61/3,192-200/2' \n",
    "should equal \n",
    "'142,128-112/4,131,94,91,51-39/4,85-77/4,85,89,180-178,101-105,103,101,150,191,63,58,24,5*5,55-61/3,192-200/2'"
   ]
  }
 ],
 "metadata": {
  "kernelspec": {
   "display_name": "Python 3 (ipykernel)",
   "language": "python",
   "name": "python3"
  },
  "language_info": {
   "codemirror_mode": {
    "name": "ipython",
    "version": 3
   },
   "file_extension": ".py",
   "mimetype": "text/x-python",
   "name": "python",
   "nbconvert_exporter": "python",
   "pygments_lexer": "ipython3",
   "version": "3.10.6"
  }
 },
 "nbformat": 4,
 "nbformat_minor": 5
}
