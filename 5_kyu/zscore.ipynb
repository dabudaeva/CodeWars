{
 "cells": [
  {
   "cell_type": "markdown",
   "id": "d66d9ac1-22be-45d0-a45d-159e03e995c0",
   "metadata": {},
   "source": [
    "# [Mean without outliers](https://www.codewars.com/kata/5962d557be3f8bb0ca000010)\n",
    "\n",
    "### DESCRIPTION:\n",
    "\n",
    "The mean and standard deviation of a sample of data can be thrown off if the sample contains one or many outlier(s) :\n",
    "\n",
    "![image](http://www.ukoln.ac.uk/web-focus/webwatch/reports/hei-lib-may1998/fig11.gif)\n",
    "\n",
    "For this reason, it is usually a good idea to check for and remove outliers before computing the mean or the standard deviation of a sample. To this aim, your function will receive a list of numbers representing a sample of data. Your function must remove any outliers and return the mean of the sample, rounded to two decimal places (round only at the end).\n",
    "\n",
    "Since there is no objective definition of \"outlier\" in statistics, your function will also receive a cutoff, in standard deviation units. So for example if the cutoff is 3, then any value that is more than 3 standard deviations above or below the mean must be removed. *Notice that, once outlying values are removed in a first \"sweep\", other less extreme values may then \"become\" outliers, that you'll have to remove as well!*\n",
    "\n",
    "### Example :\n",
    "```python\n",
    "sample = [1, 2, 3, 4, 5, 6, 7, 8, 9, 10, 100]\n",
    "cutoff = 3\n",
    "clean_mean(sample, cutoff) → 5.5\n",
    "```\n",
    "*Note : since we are not computing the sample standard deviation for inferential purposes, the denominator is n, not n - 1.*"
   ]
  },
  {
   "cell_type": "code",
   "execution_count": 1,
   "id": "7b271efd-0f8c-474c-81e3-cbe2513c9486",
   "metadata": {},
   "outputs": [],
   "source": [
    "from scipy import stats\n",
    "import numpy as np\n",
    "\n",
    "def clean_mean(sample, cutoff):\n",
    "    z = np.abs(stats.zscore(sample))\n",
    "    while not all([i<=cutoff for i in z]):\n",
    "        sample = [sample[i] for i, n in enumerate(z) if n <= cutoff]\n",
    "        z = np.abs(stats.zscore(sample))\n",
    "    return np.round(np.mean(sample), 2)\n"
   ]
  },
  {
   "cell_type": "code",
   "execution_count": 2,
   "id": "8c24d89c-e9c1-41dc-8056-22693a59f082",
   "metadata": {},
   "outputs": [],
   "source": [
    "sample = [1, 2, 3, 4, 5, 6, 7, 8, 9, 10, 100]\n",
    "cutoff = 3"
   ]
  },
  {
   "cell_type": "code",
   "execution_count": 3,
   "id": "b58240cf-0b7c-4ce5-8445-d6e6e66e1e18",
   "metadata": {},
   "outputs": [
    {
     "name": "stdout",
     "output_type": "stream",
     "text": [
      "5.5\n"
     ]
    }
   ],
   "source": [
    "print(clean_mean(sample, cutoff))"
   ]
  }
 ],
 "metadata": {
  "kernelspec": {
   "display_name": "Python 3 (ipykernel)",
   "language": "python",
   "name": "python3"
  },
  "language_info": {
   "codemirror_mode": {
    "name": "ipython",
    "version": 3
   },
   "file_extension": ".py",
   "mimetype": "text/x-python",
   "name": "python",
   "nbconvert_exporter": "python",
   "pygments_lexer": "ipython3",
   "version": "3.10.6"
  }
 },
 "nbformat": 4,
 "nbformat_minor": 5
}
