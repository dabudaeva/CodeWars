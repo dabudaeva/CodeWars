{
 "cells": [
  {
   "cell_type": "markdown",
   "id": "36b5c813-e282-407b-9889-b5f34b0961b7",
   "metadata": {},
   "source": [
    "# [Underload interpreter](https://www.codewars.com/kata/632c4222a1e24b480d9aae0d)\n",
    "\n",
    "Underload is an esoteric programming language. It is a stack based, turing complete language that works based on strings. Strings are the only datatype in Underload.\n",
    "\n",
    "Commands\n",
    "- (x): An underload string:\n",
    "Starts with an opening parenthesis (, and pushes all characters after the starting ( and before the closing parenthesis ) as a string.\n",
    "Parentheses that come after the first ( must be matched, and a matched ) will not end the string.\n",
    "An Underload program can only contain balanced parentheses i.e. (() is an invalid program.\n",
    "If all parentheses in a string are not correctly matched, you must raise an Exception.\n",
    "- :: Duplicate the top element of the stack.\n",
    "- !: Remove the top element of the stack.\n",
    "- ~: Swap the top two elements in the stack.\n",
    "- *: Concatenate the top element of the stack to the end of the second element of the stack.\n",
    "The top element and second element are both popped and the concatenated string is pushed in their place.\n",
    "This is ordinary string concatenation, if the top of the stack is [\"(a)\",\"(b)\"], the resulting stack should be [\"(a)(b)\"].\n",
    "- a: Enclose the top element of the stack in a set of parentheses.\n",
    "- ^: Include the top element of the stack into the program after this command. The top element is popped.\n",
    "The string must be inserted after the position of the ^ command being executed.\n",
    "For example, if the code is ^a* and the top of the stack is \"S~!\", then the code becomes ^S~!a*, and execution continues starting with S.\n",
    "- S: Pop the top element of the stack, and output it (no newline). In the case of this challenge, you will have to store the output every time S is called, and return it as a single string at the end of the program.\n",
    "\n",
    "Code is interpreted from left to right.\n",
    "\n",
    "Invalid commands not mentioned in the command list must be ignored.\n",
    "\n",
    "**Stack underflow** is a condition where a command is run, but there are no arguments on the stack to use for it. You do not need to handle stack underflow.\n",
    "\n",
    "The program ends when it reaches the end of the code.\n",
    "\n",
    "You can learn more about Underload from its [Esolangs Wiki](https://esolangs.org/wiki/Underload) page."
   ]
  },
  {
   "cell_type": "code",
   "execution_count": null,
   "id": "bcc8f351-837e-4e94-a11c-d04991739a73",
   "metadata": {},
   "outputs": [],
   "source": [
    "# return the output of the given underload program.\n",
    "# code: passed in as a string.\n",
    "def underload(code):\n",
    "    code"
   ]
  },
  {
   "cell_type": "code",
   "execution_count": 37,
   "id": "d3a62be8-8a30-4442-9888-10f28c2bc16a",
   "metadata": {},
   "outputs": [
    {
     "name": "stdout",
     "output_type": "stream",
     "text": [
      "first)(second\n"
     ]
    }
   ],
   "source": [
    "code = \"(first)(second)*S\"\n",
    "if '(' in code and ')' in code:\n",
    "    if code.count('(') == code.count(')'):\n",
    "        print(code[code.find('(')+1:code.rfind(')')])\n",
    "    else:\n",
    "        raise Exception(f\"String '{code}' must throw an error\")\n",
    "else:\n",
    "    print('')"
   ]
  },
  {
   "cell_type": "code",
   "execution_count": 66,
   "id": "dffe9a9e-1357-47e3-9085-3fff23819abd",
   "metadata": {},
   "outputs": [
    {
     "data": {
      "text/plain": [
       "['he', 'll', 'o', 'S']"
      ]
     },
     "execution_count": 66,
     "metadata": {},
     "output_type": "execute_result"
    }
   ],
   "source": [
    "code = \"(he(ll)o)S\"\n",
    "elements = code.replace(')(', '(').replace(')', '(').split('(')\n",
    "elements = [x for x in elements if x]\n",
    "elements"
   ]
  },
  {
   "cell_type": "code",
   "execution_count": 69,
   "id": "cc9f9c19-fd82-4533-b1db-f29553aa8d61",
   "metadata": {},
   "outputs": [
    {
     "data": {
      "text/plain": [
       "'hello'"
      ]
     },
     "execution_count": 69,
     "metadata": {},
     "output_type": "execute_result"
    }
   ],
   "source": [
    "''.join(elements[:-1])"
   ]
  },
  {
   "cell_type": "code",
   "execution_count": 68,
   "id": "5d7f0be4-a858-4ef2-934d-97683838d6ba",
   "metadata": {},
   "outputs": [
    {
     "data": {
      "text/plain": [
       "['he', 'll', 'o']"
      ]
     },
     "execution_count": 68,
     "metadata": {},
     "output_type": "execute_result"
    }
   ],
   "source": [
    "elements[:-1]"
   ]
  },
  {
   "cell_type": "code",
   "execution_count": 86,
   "id": "3c89eb2f-fe2e-475e-a574-d633481ab48b",
   "metadata": {},
   "outputs": [
    {
     "name": "stdout",
     "output_type": "stream",
     "text": [
      "['(he(ll)']\n"
     ]
    }
   ],
   "source": [
    "import re\n",
    "code = \"(he(ll)o)S\"\n",
    "elements = re.findall('\\(.*?\\)', code)\n",
    "print(elements)"
   ]
  },
  {
   "cell_type": "code",
   "execution_count": 87,
   "id": "fad8006d-bc8a-45fa-b7da-774aabb17f2e",
   "metadata": {},
   "outputs": [
    {
     "name": "stdout",
     "output_type": "stream",
     "text": [
      "he(ll)o\n"
     ]
    }
   ],
   "source": [
    "print(code[code.find('(')+1:code.rfind(')')])"
   ]
  },
  {
   "cell_type": "code",
   "execution_count": 93,
   "id": "6054c538-b537-4d82-9e1f-5e2457d4497f",
   "metadata": {},
   "outputs": [],
   "source": [
    "code = \"(he(ll)o)(second)!S\""
   ]
  },
  {
   "cell_type": "code",
   "execution_count": 94,
   "id": "c847588f-88fc-400b-8dab-93e6a51dc002",
   "metadata": {},
   "outputs": [
    {
     "data": {
      "text/plain": [
       "['he(ll', 'second']"
      ]
     },
     "execution_count": 94,
     "metadata": {},
     "output_type": "execute_result"
    }
   ],
   "source": [
    "[i[i.find('(')+1:i.rfind(')')] for i in code.split(')(')]"
   ]
  },
  {
   "cell_type": "code",
   "execution_count": null,
   "id": "3550ed86-3b33-4316-adbd-949c86e2519b",
   "metadata": {},
   "outputs": [],
   "source": [
    "[i[i.find('(')+1:i.rfind(')')] for i in code.split(')(')]"
   ]
  },
  {
   "cell_type": "code",
   "execution_count": 123,
   "id": "2aac663a-6eb6-444c-b522-e08a9aa6c392",
   "metadata": {},
   "outputs": [
    {
     "data": {
      "text/plain": [
       "['a', 'A', 'b', '!!']"
      ]
     },
     "execution_count": 123,
     "metadata": {},
     "output_type": "execute_result"
    }
   ],
   "source": [
    "code = \"(a)(A)(b)(!!)^S\"\n",
    "elements = code[:code.rfind(')')+1]\n",
    "elements = list(map(lambda i: '('+i if i[0]!='(' else i, elements.split(')(')))\n",
    "elements = list(map(lambda i: i+')' if i[-1]!=')' else i, elements))\n",
    "elements = [i[i.find('(')+1:i.rfind(')')] for i in elements]\n",
    "elements"
   ]
  },
  {
   "cell_type": "code",
   "execution_count": null,
   "id": "c9a6c988-5378-432e-bf8f-b3f0dafe1220",
   "metadata": {},
   "outputs": [],
   "source": []
  },
  {
   "cell_type": "code",
   "execution_count": null,
   "id": "30b9a66a-422d-41b0-a301-e88a87e68990",
   "metadata": {},
   "outputs": [],
   "source": [
    "from solution import underload\n",
    "import codewars_test as test\n",
    "\n",
    "@test.describe(\"basic_tests\")\n",
    "def basic_tests():\n",
    "    @test.it(\"parses strings correctly\")\n",
    "    def string_parse_tests():\n",
    "        test.assert_equals(underload(\"(hello)S\"), \"hello\")\n",
    "        test.assert_equals(underload(\"(he(ll)o)S\"), \"he(ll)o\")\n",
    "        err1 = lambda: underload(\"(h(i)\")\n",
    "        test.expect_error(\"String '(h(i)' must throw an error\", err1, exception=Exception)\n",
    "        err2 = lambda: underload(\"(hi))\")\n",
    "        test.expect_error(\"String '(hi))' must throw an error\", err2, exception=Exception)\n",
    "        # non-command chars must do nothing\n",
    "        test.assert_equals(underload(\"ADBJFHBDH\"), \"\")\n",
    "        \n",
    "    @test.it(\"performs stack operations correctly (:, !, ~)\")\n",
    "    def stack_ops():\n",
    "        test.assert_equals(underload(\"(hello):SS\"), \"hellohello\")\n",
    "        test.assert_equals(underload(\"(first)(second)!S\"), \"first\")\n",
    "        test.assert_equals(underload(\"(first)(second)~SS\"), \"firstsecond\")\n",
    "    \n",
    "    @test.it(\"performs string operations correctly (*,a)\")\n",
    "    def str_ops():\n",
    "        test.assert_equals(underload(\"(first)(second)*S\"), \"firstsecond\")\n",
    "        test.assert_equals(underload(\"((()))aS\"), \"((()))\")\n",
    "    \n",
    "    @test.it(\"performs 'eval' correctly (^)\")\n",
    "    def eval_op():\n",
    "        test.assert_equals(underload(\"()^()^(gghghg)^\"), \"\")\n",
    "        test.assert_equals(underload(\"(((())))^S\"), \"(())\")\n",
    "        test.assert_equals(underload(\"((aa)S)::**^\"), \"aaaaaa\")\n",
    "        test.assert_equals(underload(\"(a)(A)(b)(!!)^S\"), \"a\")"
   ]
  }
 ],
 "metadata": {
  "kernelspec": {
   "display_name": "Python 3 (ipykernel)",
   "language": "python",
   "name": "python3"
  },
  "language_info": {
   "codemirror_mode": {
    "name": "ipython",
    "version": 3
   },
   "file_extension": ".py",
   "mimetype": "text/x-python",
   "name": "python",
   "nbconvert_exporter": "python",
   "pygments_lexer": "ipython3",
   "version": "3.10.6"
  }
 },
 "nbformat": 4,
 "nbformat_minor": 5
}
