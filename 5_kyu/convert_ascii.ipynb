{
 "cells": [
  {
   "cell_type": "markdown",
   "id": "73c19731-4008-4941-aa31-963810d8a032",
   "metadata": {},
   "source": [
    "# [ASCII hex converter](https://www.codewars.com/kata/52fea6fd158f0576b8000089)\n",
    "\n",
    "### DESCRIPTION:\n",
    "Write a module Converter that can take ASCII text and convert it to hexadecimal. The class should also be able to take hexadecimal and convert it to ASCII text. To make the conversion well defined, each ASCII character is represented by exactly two hex digits, left-padding with a 0 if needed. The conversion from ascii to hex should produce lowercase strings (i.e. f6 instead of F6).\n",
    "\n",
    "### Example\n",
    "```python\n",
    "Converter.to_hex(\"Look mom, no hands\")\n",
    "=> \"4c6f6f6b206d6f6d2c206e6f2068616e6473\"\n",
    "\n",
    "Converter.to_ascii(\"4c6f6f6b206d6f6d2c206e6f2068616e6473\")\n",
    "=> \"Look mom, no hands\"\n",
    "```"
   ]
  },
  {
   "cell_type": "code",
   "execution_count": 44,
   "id": "2a9c45ec-3429-416e-9cf0-21dca60e48a3",
   "metadata": {},
   "outputs": [],
   "source": [
    "class Converter():\n",
    "    @staticmethod\n",
    "    def to_ascii(h):\n",
    "        return ''.join([chr(int(h[i:i+2], 16)) for i in range(0, len(h), 2)])\n",
    "    @staticmethod\n",
    "    def to_hex(s):\n",
    "        return ''.join([hex(ord(i)).replace('0x','') if len(hex(ord(i)))==4 else '0'+hex(ord(i)).replace('0x','') for i in s])"
   ]
  },
  {
   "cell_type": "code",
   "execution_count": 45,
   "id": "676e56d1-bf14-496a-a11b-495d1b6565a9",
   "metadata": {},
   "outputs": [
    {
     "data": {
      "text/plain": [
       "True"
      ]
     },
     "execution_count": 45,
     "metadata": {},
     "output_type": "execute_result"
    }
   ],
   "source": [
    "Converter.to_hex(\"Look mom, no hands\")==\"4c6f6f6b206d6f6d2c206e6f2068616e6473\""
   ]
  },
  {
   "cell_type": "code",
   "execution_count": 46,
   "id": "7b3390a5-4e25-4ba0-906c-bc5d8812e016",
   "metadata": {},
   "outputs": [
    {
     "data": {
      "text/plain": [
       "True"
      ]
     },
     "execution_count": 46,
     "metadata": {},
     "output_type": "execute_result"
    }
   ],
   "source": [
    "Converter.to_ascii(\"4c6f6f6b206d6f6d2c206e6f2068616e6473\")==\"Look mom, no hands\""
   ]
  }
 ],
 "metadata": {
  "kernelspec": {
   "display_name": "Python 3 (ipykernel)",
   "language": "python",
   "name": "python3"
  },
  "language_info": {
   "codemirror_mode": {
    "name": "ipython",
    "version": 3
   },
   "file_extension": ".py",
   "mimetype": "text/x-python",
   "name": "python",
   "nbconvert_exporter": "python",
   "pygments_lexer": "ipython3",
   "version": "3.10.6"
  }
 },
 "nbformat": 4,
 "nbformat_minor": 5
}
