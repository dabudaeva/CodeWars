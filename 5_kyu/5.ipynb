{
 "cells": [
  {
   "cell_type": "markdown",
   "id": "c9b53d07-0c4d-4bb4-ac7b-4d1100cc4676",
   "metadata": {},
   "source": [
    "# [Numbers that are a power of their sum of digits](https://www.codewars.com/kata/55f4e56315a375c1ed000159)\n",
    "\n",
    "The number 81 has a special property, a certain power of the sum of its digits is equal to 81 (nine squared). Eighty one (81), is the first number in having this property (not considering numbers of one digit). The next one, is 512. Let's see both cases with the details\n",
    "\n",
    "8 + 1 = 9 and 9^2^ = 81\n",
    "\n",
    "512 = 5 + 1 + 2 = 8 and 8^3 = 512\n",
    "\n",
    "We need to make a function that receives a number as argument n and returns the n-th term of this sequence of numbers.\n",
    "\n",
    "**Examples (input --> output)**\n",
    "```python\n",
    "1 --> 81\n",
    "\n",
    "2 --> 512\n",
    "```\n",
    "Happy coding!"
   ]
  },
  {
   "cell_type": "code",
   "execution_count": 43,
   "id": "30ca108f-c46d-40da-8d42-e2fcf7bc9535",
   "metadata": {},
   "outputs": [
    {
     "data": {
      "text/plain": [
       "8"
      ]
     },
     "execution_count": 43,
     "metadata": {},
     "output_type": "execute_result"
    }
   ],
   "source": [
    "sum([int(x) for x in str(512)])"
   ]
  },
  {
   "cell_type": "code",
   "execution_count": null,
   "id": "240f70ec-717e-41b4-9786-fded5b617970",
   "metadata": {},
   "outputs": [],
   "source": [
    "def power_sumDigTerm(n):\n",
    "    l = []\n",
    "    i = 2\n",
    "    counter = 0\n",
    "    number = 0\n",
    "    while n+9!=counter:\n",
    "        for c in permutations(range(10), i):\n",
    "            for s in range(1, i+1):\n",
    "                if int(''.join([str(x) for x in c])) == sum(c)**s:\n",
    "                    if number!= sum(c)**s:\n",
    "                        number = sum(c)**s\n",
    "                        counter += 1\n",
    "                        print(counter, number)\n",
    "        i += 1\n",
    "    return number"
   ]
  },
  {
   "cell_type": "code",
   "execution_count": 1,
   "id": "4d854eb0-9a92-4aa2-9af4-f3b1157a7af5",
   "metadata": {},
   "outputs": [],
   "source": [
    "# [(1, 81), (2, 512), (3, 2401), (4, 4913), (5, 5832)]"
   ]
  },
  {
   "cell_type": "code",
   "execution_count": null,
   "id": "5b9c449e-6f43-46ae-82cb-d3d72037e0b0",
   "metadata": {},
   "outputs": [],
   "source": []
  },
  {
   "cell_type": "code",
   "execution_count": null,
   "id": "721b795a-b8b2-4091-ac82-1908b3094024",
   "metadata": {},
   "outputs": [],
   "source": [
    "{\n",
    "    1: 81,\n",
    "    2: 512,\n",
    "    3: 2401,\n",
    "    4: 4913,\n",
    "    5: 5832,\n",
    "    6: 4913,\n",
    "    7: 5832,\n",
    "    8: 19683,\n",
    "    9: 390625,\n",
    "}"
   ]
  },
  {
   "cell_type": "code",
   "execution_count": 108,
   "id": "f06e231f-fe4b-40b8-b874-0073e2fa509d",
   "metadata": {},
   "outputs": [
    {
     "ename": "KeyboardInterrupt",
     "evalue": "",
     "output_type": "error",
     "traceback": [
      "\u001b[0;31m---------------------------------------------------------------------------\u001b[0m",
      "\u001b[0;31mKeyboardInterrupt\u001b[0m                         Traceback (most recent call last)",
      "Cell \u001b[0;32mIn [108], line 6\u001b[0m\n\u001b[1;32m      4\u001b[0m \u001b[38;5;28;01mfor\u001b[39;00m s \u001b[38;5;129;01min\u001b[39;00m \u001b[38;5;28mrange\u001b[39m(n):\n\u001b[1;32m      5\u001b[0m     \u001b[38;5;28;01mfor\u001b[39;00m i \u001b[38;5;129;01min\u001b[39;00m \u001b[38;5;28mrange\u001b[39m(\u001b[38;5;241m7\u001b[39m, \u001b[38;5;241m10\u001b[39m\u001b[38;5;241m*\u001b[39m\u001b[38;5;241m*\u001b[39m(n\u001b[38;5;241m+\u001b[39m\u001b[38;5;241m1\u001b[39m)):\n\u001b[0;32m----> 6\u001b[0m         \u001b[38;5;28;01mif\u001b[39;00m i \u001b[38;5;241m==\u001b[39m \u001b[38;5;28msum\u001b[39m([\u001b[38;5;28mint\u001b[39m(x) \u001b[38;5;28;01mfor\u001b[39;00m x \u001b[38;5;129;01min\u001b[39;00m \u001b[38;5;28mstr\u001b[39m(i\u001b[38;5;241m*\u001b[39m\u001b[38;5;241m*\u001b[39ms)]):\n\u001b[1;32m      7\u001b[0m             l\u001b[38;5;241m.\u001b[39mappend(i\u001b[38;5;241m*\u001b[39m\u001b[38;5;241m*\u001b[39ms)\n\u001b[1;32m      8\u001b[0m             \u001b[38;5;28mprint\u001b[39m(l)\n",
      "\u001b[0;31mKeyboardInterrupt\u001b[0m: "
     ]
    }
   ],
   "source": [
    "n = 12\n",
    "l = []\n",
    "\n",
    "for s in range(n):\n",
    "    for i in range(7, 10**(n+1)):\n",
    "        if i == sum([int(x) for x in str(i**s)]):\n",
    "            l.append(i**s)\n",
    "            print(l)\n",
    "        if len(l)-3 == n:\n",
    "            break\n",
    "    if len(l)-3 == n:\n",
    "            break\n",
    "l"
   ]
  },
  {
   "cell_type": "code",
   "execution_count": 102,
   "id": "5b1284d0-d051-4e3c-af1d-6e5e276b9714",
   "metadata": {},
   "outputs": [
    {
     "data": {
      "text/plain": [
       "14"
      ]
     },
     "execution_count": 102,
     "metadata": {},
     "output_type": "execute_result"
    }
   ],
   "source": [
    "len(l)"
   ]
  },
  {
   "cell_type": "code",
   "execution_count": null,
   "id": "2fdda0f8-cf5a-4bea-83d6-e5550d305cdf",
   "metadata": {},
   "outputs": [],
   "source": [
    "l = sorted(l)[3:]\n",
    "l"
   ]
  },
  {
   "cell_type": "code",
   "execution_count": 82,
   "id": "75b8568d-45fc-47ab-9f79-8f233c19a500",
   "metadata": {},
   "outputs": [
    {
     "data": {
      "text/plain": [
       "28"
      ]
     },
     "execution_count": 82,
     "metadata": {},
     "output_type": "execute_result"
    }
   ],
   "source": [
    "6+1+4+6+5+6"
   ]
  },
  {
   "cell_type": "code",
   "execution_count": 93,
   "id": "c45518bc-d0a2-48a2-8d39-556ace185bdc",
   "metadata": {},
   "outputs": [
    {
     "data": {
      "text/plain": [
       "614656"
      ]
     },
     "execution_count": 93,
     "metadata": {},
     "output_type": "execute_result"
    }
   ],
   "source": [
    "(6+1+4+6+5+6)**4"
   ]
  }
 ],
 "metadata": {
  "kernelspec": {
   "display_name": "Python 3 (ipykernel)",
   "language": "python",
   "name": "python3"
  },
  "language_info": {
   "codemirror_mode": {
    "name": "ipython",
    "version": 3
   },
   "file_extension": ".py",
   "mimetype": "text/x-python",
   "name": "python",
   "nbconvert_exporter": "python",
   "pygments_lexer": "ipython3",
   "version": "3.10.6"
  }
 },
 "nbformat": 4,
 "nbformat_minor": 5
}
