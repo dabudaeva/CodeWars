{
 "cells": [
  {
   "cell_type": "markdown",
   "id": "c9b53d07-0c4d-4bb4-ac7b-4d1100cc4676",
   "metadata": {},
   "source": [
    "# [Numbers that are a power of their sum of digits](https://www.codewars.com/kata/55f4e56315a375c1ed000159)\n",
    "\n",
    "The number 81 has a special property, a certain power of the sum of its digits is equal to 81 (nine squared). Eighty one (81), is the first number in having this property (not considering numbers of one digit). The next one, is 512. Let's see both cases with the details\n",
    "\n",
    "$8 + 1 = 9$ and $ 9^{2} = 81 $\n",
    "\n",
    "$512 = 5 + 1 + 2 = 8$ and $8^{3} = 512$\n",
    "\n",
    "We need to make a function that receives a number as argument n and returns the n-th term of this sequence of numbers.\n",
    "\n",
    "**Examples (input --> output)**\n",
    "```python\n",
    "1 --> 81\n",
    "\n",
    "2 --> 512\n",
    "```\n",
    "Happy coding!"
   ]
  },
  {
   "cell_type": "code",
   "execution_count": 136,
   "id": "240f70ec-717e-41b4-9786-fded5b617970",
   "metadata": {},
   "outputs": [],
   "source": [
    "l = []\n",
    "for i in range(0, 500):\n",
    "    for j in range(0, 50):\n",
    "        n = i**j\n",
    "        if i == sum([int(x) for x in str(n)]) and n not in l:\n",
    "            l.append(n)\n",
    "l = sorted(l)[10:]\n",
    "            \n",
    "def power_sumDigTerm(num):\n",
    "    return l[num-1]"
   ]
  },
  {
   "cell_type": "code",
   "execution_count": 140,
   "id": "4d854eb0-9a92-4aa2-9af4-f3b1157a7af5",
   "metadata": {},
   "outputs": [],
   "source": [
    "# [(1, 81), (2, 512), (3, 2401), (4, 4913), (5, 5832)]"
   ]
  },
  {
   "cell_type": "code",
   "execution_count": null,
   "id": "dc8ff08e-9368-405a-a7fc-f3ee444fa9c9",
   "metadata": {},
   "outputs": [],
   "source": []
  },
  {
   "cell_type": "markdown",
   "id": "a59657ba-9c67-4299-a78d-a240fed607b9",
   "metadata": {},
   "source": [
    "# [By the Power Set of Castle Grayskull](https://www.codewars.com/kata/53d3173cf4eb7605c10001a8)\n",
    "\n",
    "Write a function that returns all of the sublists of a list/array.\n",
    "\n",
    "### Example:\n",
    "```python\n",
    "power([1,2,3]); => [[], [1], [2], [1,2], [3], [1,3],  [2,3],  [1,2,3]]\n",
    "```\n",
    "For more details regarding this, see the [power set](https://en.wikipedia.org/wiki/Power_set) entry in wikipedia."
   ]
  },
  {
   "cell_type": "code",
   "execution_count": 204,
   "id": "a272924e-d10b-496b-8dd3-2463cef4598c",
   "metadata": {},
   "outputs": [],
   "source": [
    "from itertools import combinations"
   ]
  },
  {
   "cell_type": "code",
   "execution_count": 197,
   "id": "aee8c63a-ec73-49d7-aa48-1ab15c0e0cef",
   "metadata": {},
   "outputs": [],
   "source": [
    "def power(a):\n",
    "    l = [[list(x) for x in combinations(a, i)] for i in range(1, len(a)+1)]\n",
    "    return sorted([item for sublist in l for item in sublist]+[[]])"
   ]
  },
  {
   "cell_type": "code",
   "execution_count": 195,
   "id": "236078b5-a020-496d-a157-17a68cd4e845",
   "metadata": {},
   "outputs": [],
   "source": [
    "def power(a):\n",
    "    return [list(c) for l in range(len(a)+1) for c in combinations(a, l)]"
   ]
  }
 ],
 "metadata": {
  "kernelspec": {
   "display_name": "Python 3 (ipykernel)",
   "language": "python",
   "name": "python3"
  },
  "language_info": {
   "codemirror_mode": {
    "name": "ipython",
    "version": 3
   },
   "file_extension": ".py",
   "mimetype": "text/x-python",
   "name": "python",
   "nbconvert_exporter": "python",
   "pygments_lexer": "ipython3",
   "version": "3.10.6"
  }
 },
 "nbformat": 4,
 "nbformat_minor": 5
}
