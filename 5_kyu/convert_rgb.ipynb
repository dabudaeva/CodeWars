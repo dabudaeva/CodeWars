{
 "cells": [
  {
   "cell_type": "markdown",
   "id": "7e051bcd-944d-48d9-aed3-900b6636c378",
   "metadata": {},
   "source": [
    "# [RGB To Hex Conversion](https://www.codewars.com/kata/513e08acc600c94f01000001)\n",
    "\n",
    "### DESCRIPTION:\n",
    "\n",
    "The rgb function is incomplete. Complete it so that passing in RGB decimal values will result in a hexadecimal representation being returned. Valid decimal values for RGB are 0 - 255. Any values that fall out of that range must be rounded to the closest valid value.\n",
    "\n",
    "Note: Your answer should always be 6 characters long, the shorthand with 3 will not work here.\n",
    "\n",
    "The following are examples of expected output values:\n",
    "\n",
    "```python\n",
    "rgb(255, 255, 255) # returns FFFFFF\n",
    "rgb(255, 255, 300) # returns FFFFFF\n",
    "rgb(0,0,0) # returns 000000\n",
    "rgb(148, 0, 211) # returns 9400D3\n",
    "```"
   ]
  },
  {
   "cell_type": "code",
   "execution_count": 252,
   "id": "18531c14-483a-4ba7-8c3c-c8760942ff7c",
   "metadata": {},
   "outputs": [],
   "source": [
    "def converter_16(n):\n",
    "    start, n  = n, abs(n)\n",
    "\n",
    "    d = '0123456789ABCDEF'\n",
    "    l = '' if n != 0 else '0'\n",
    "    \n",
    "    while any([n % 16, n // 16]):\n",
    "        l += f'{d[n % 16]}'\n",
    "        n = n // 16\n",
    "    return l[::-1] if start >= 0 else '-' + l[::-1]"
   ]
  },
  {
   "cell_type": "code",
   "execution_count": 253,
   "id": "6f002202-bef3-4fe5-9f79-1f838c5d7ff1",
   "metadata": {},
   "outputs": [],
   "source": [
    "def rgb(r, g, b):\n",
    "    l = [i if i <= 255 else 255 for i in [i if i >= 0 else 0 for i in [r, g, b]]]\n",
    "    l = [converter_16(i) if len(converter_16(i))!=1 else '0'+converter_16(i) for i in l]\n",
    "    return ''.join(l)"
   ]
  },
  {
   "cell_type": "code",
   "execution_count": 254,
   "id": "1156094f-6589-410c-b961-2694328f7bca",
   "metadata": {},
   "outputs": [
    {
     "name": "stdout",
     "output_type": "stream",
     "text": [
      "True\n",
      "True\n",
      "True\n",
      "True\n",
      "True\n"
     ]
    }
   ],
   "source": [
    "print(rgb(0, 0, 0) == \"000000\")\n",
    "print(rgb(1, 2, 3) == \"010203\")\n",
    "print(rgb(255, 255, 255) == \"FFFFFF\")\n",
    "print(rgb(254, 253, 252) == \"FEFDFC\")\n",
    "print(rgb(-20, 275, 125) == \"00FF7D\")"
   ]
  }
 ],
 "metadata": {
  "kernelspec": {
   "display_name": "Python 3 (ipykernel)",
   "language": "python",
   "name": "python3"
  },
  "language_info": {
   "codemirror_mode": {
    "name": "ipython",
    "version": 3
   },
   "file_extension": ".py",
   "mimetype": "text/x-python",
   "name": "python",
   "nbconvert_exporter": "python",
   "pygments_lexer": "ipython3",
   "version": "3.10.6"
  }
 },
 "nbformat": 4,
 "nbformat_minor": 5
}
