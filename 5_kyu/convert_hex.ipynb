{
 "cells": [
  {
   "cell_type": "markdown",
   "id": "aa6fce8a-1eb8-4042-9c76-d287f5781b52",
   "metadata": {},
   "source": [
    "# [Convert A Hex String To RGB](https://www.codewars.com/kata/5282b48bb70058e4c4000fa7)\n",
    "\n",
    "When working with color values it can sometimes be useful to extract the individual red, green, and blue (RGB) component values for a color. Implement a function that meets these requirements:\n",
    "\n",
    "- Accepts a case-insensitive hexadecimal color string as its parameter (ex. \"#FF9933\" or \"#ff9933\")\n",
    "- Returns a Map<String, int> with the structure {r: 255, g: 153, b: 51} where r, g, and b range from 0 through 255\n",
    "\n",
    "**Note**: your implementation does not need to support the shorthand form of hexadecimal notation (ie \"#FFF\")\n",
    "\n",
    "### Example\n",
    "```python\n",
    "\"#FF9933\" --> {r: 255, g: 153, b: 51}\n",
    "```"
   ]
  },
  {
   "cell_type": "code",
   "execution_count": 83,
   "id": "26221bac-cad1-41c6-947f-2592049abe64",
   "metadata": {},
   "outputs": [],
   "source": [
    "def converter_10(s):\n",
    "    d = '0123456789ABCDEF'\n",
    "    n = sum(((16**i)*d.index(x)) for i, x in enumerate(s.replace('-', '')[::-1]))\n",
    "    return -n if '-' in s else n\n",
    "\n",
    "def hex_string_to_RGB(s):\n",
    "    s = s.upper().replace('#', '')\n",
    "    n = [converter_10(s[i:i+2]) for i in range(0, len(s), 2)]\n",
    "    return {'r': n[0],'g': n[1],'b': n[2]}"
   ]
  },
  {
   "cell_type": "code",
   "execution_count": 85,
   "id": "c765cb9d-47ae-45ba-a641-65acfad7e1be",
   "metadata": {},
   "outputs": [
    {
     "name": "stdout",
     "output_type": "stream",
     "text": [
      "True\n",
      "True\n",
      "True\n",
      "True\n",
      "True\n"
     ]
    }
   ],
   "source": [
    "print(hex_string_to_RGB(\"#FF9933\")== {'r':255, 'g':153, 'b':51})\n",
    "print(hex_string_to_RGB(\"#beaded\")== {'r':190, 'g':173, 'b':237})\n",
    "print(hex_string_to_RGB(\"#000000\")== {'r':0, 'g':0, 'b':0})\n",
    "print(hex_string_to_RGB(\"#111111\")== {'r':17, 'g':17, 'b':17})\n",
    "print(hex_string_to_RGB(\"#Fa3456\")== {'r':250, 'g':52, 'b':86})"
   ]
  },
  {
   "cell_type": "code",
   "execution_count": 80,
   "id": "af8650e7-a611-4cc2-9026-0cd7e4cb66a0",
   "metadata": {},
   "outputs": [],
   "source": []
  },
  {
   "cell_type": "code",
   "execution_count": null,
   "id": "ac37c8c0-fa33-4c58-be79-ff48f4b22476",
   "metadata": {},
   "outputs": [],
   "source": []
  }
 ],
 "metadata": {
  "kernelspec": {
   "display_name": "Python 3 (ipykernel)",
   "language": "python",
   "name": "python3"
  },
  "language_info": {
   "codemirror_mode": {
    "name": "ipython",
    "version": 3
   },
   "file_extension": ".py",
   "mimetype": "text/x-python",
   "name": "python",
   "nbconvert_exporter": "python",
   "pygments_lexer": "ipython3",
   "version": "3.10.6"
  }
 },
 "nbformat": 4,
 "nbformat_minor": 5
}
